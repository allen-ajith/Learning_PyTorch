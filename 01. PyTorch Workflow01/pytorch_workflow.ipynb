{
  "nbformat": 4,
  "nbformat_minor": 0,
  "metadata": {
    "colab": {
      "provenance": [],
      "gpuType": "T4",
      "authorship_tag": "ABX9TyO/Ca9R+ktfuR/ZGMg4BOQj",
      "include_colab_link": true
    },
    "kernelspec": {
      "name": "python3",
      "display_name": "Python 3"
    },
    "language_info": {
      "name": "python"
    },
    "accelerator": "GPU"
  },
  "cells": [
    {
      "cell_type": "markdown",
      "metadata": {
        "id": "view-in-github",
        "colab_type": "text"
      },
      "source": [
        "<a href=\"https://colab.research.google.com/github/allen-del/Learning_PyTorch/blob/main/01.%20PyTorch%20Workflow01/pytorch_workflow.ipynb\" target=\"_parent\"><img src=\"https://colab.research.google.com/assets/colab-badge.svg\" alt=\"Open In Colab\"/></a>"
      ]
    },
    {
      "cell_type": "markdown",
      "source": [
        "#Pytorch Workflow"
      ],
      "metadata": {
        "id": "Bd79DTVjJJYL"
      }
    },
    {
      "cell_type": "markdown",
      "source": [
        "End to End Workflow\n",
        "* data (prepare and load)\n",
        "* build model\n",
        "* fit the model (training)\n",
        "* inference (making predictions and evaulating model)\n",
        "* saving and loading model\n",
        "* putting everything together"
      ],
      "metadata": {
        "id": "HzDy8po9Jt1L"
      }
    },
    {
      "cell_type": "code",
      "source": [
        "import torch\n",
        "from torch import nn #torch.nn has the basic PyTorch building blocks for neural networks.\n",
        "import matplotlib.pyplot as plt\n",
        "torch.__version__"
      ],
      "metadata": {
        "colab": {
          "base_uri": "https://localhost:8080/",
          "height": 36
        },
        "id": "Pp1gFp4AvpFl",
        "outputId": "decf3b7e-1dd2-486e-8f2f-687f0b2b8c10"
      },
      "execution_count": null,
      "outputs": [
        {
          "output_type": "execute_result",
          "data": {
            "text/plain": [
              "'2.2.1+cu121'"
            ],
            "application/vnd.google.colaboratory.intrinsic+json": {
              "type": "string"
            }
          },
          "metadata": {},
          "execution_count": 7
        }
      ]
    },
    {
      "cell_type": "markdown",
      "source": [
        "### Data (preparing and loading)"
      ],
      "metadata": {
        "id": "dCCxAIVNwTXX"
      }
    },
    {
      "cell_type": "markdown",
      "source": [
        "Start with Linear Regression to create a straight line with known parameters"
      ],
      "metadata": {
        "id": "XA7xAIhIwkIv"
      }
    },
    {
      "cell_type": "code",
      "source": [
        "#Some known parameters (our ideal model should replicate these parameters)\n",
        "weight = 0.7\n",
        "bias = 0.3\n",
        "\n",
        "#Create data (usually we get this from somewhere)\n",
        "start = 0\n",
        "end = 1\n",
        "step = 0.02\n",
        "X = torch.arange(start, end, step).unsqueeze(dim=1)\n",
        "y = weight * X + bias\n",
        "\n",
        "X[:10], y[:10]"
      ],
      "metadata": {
        "id": "LZ2ZXNoox8s8",
        "colab": {
          "base_uri": "https://localhost:8080/"
        },
        "outputId": "ccb9b62c-f775-408d-ea43-e0b1f292cf65"
      },
      "execution_count": null,
      "outputs": [
        {
          "output_type": "execute_result",
          "data": {
            "text/plain": [
              "(tensor([[0.0000],\n",
              "         [0.0200],\n",
              "         [0.0400],\n",
              "         [0.0600],\n",
              "         [0.0800],\n",
              "         [0.1000],\n",
              "         [0.1200],\n",
              "         [0.1400],\n",
              "         [0.1600],\n",
              "         [0.1800]]),\n",
              " tensor([[0.3000],\n",
              "         [0.3140],\n",
              "         [0.3280],\n",
              "         [0.3420],\n",
              "         [0.3560],\n",
              "         [0.3700],\n",
              "         [0.3840],\n",
              "         [0.3980],\n",
              "         [0.4120],\n",
              "         [0.4260]]))"
            ]
          },
          "metadata": {},
          "execution_count": 8
        }
      ]
    },
    {
      "cell_type": "markdown",
      "source": [
        "###Splitting dataset\n",
        "\n",
        "Dataset split into 3 and each set has a specific purpose.\n",
        "\n",
        "* **Training set** - Model learns from this data, `60-80%`\n",
        "* **Validation set** - Model gets tuned on this data (not used in every case) `10-20%`\n",
        "* **Test set** - Model gets evaluated on this data to test what it has learned. `10-20%`"
      ],
      "metadata": {
        "id": "y5v3dR9cyklx"
      }
    },
    {
      "cell_type": "code",
      "source": [
        "#Create train/test split\n",
        "train_split = int(0.8 * len(X))\n",
        "X_train, y_train = X[:train_split], y[:train_split]\n",
        "X_test, y_test = X[train_split:], y[train_split:]\n",
        "\n",
        "len(X_train), len(y_train), len(X_test), len(y_test)"
      ],
      "metadata": {
        "colab": {
          "base_uri": "https://localhost:8080/"
        },
        "id": "f4EVddU0DeGo",
        "outputId": "d7ea9d91-d6fa-47bf-8889-6c63a94cd069"
      },
      "execution_count": null,
      "outputs": [
        {
          "output_type": "execute_result",
          "data": {
            "text/plain": [
              "(40, 40, 10, 10)"
            ]
          },
          "metadata": {},
          "execution_count": 9
        }
      ]
    },
    {
      "cell_type": "markdown",
      "source": [
        "####Plotting the split"
      ],
      "metadata": {
        "id": "MlFwK7B_hSAL"
      }
    },
    {
      "cell_type": "code",
      "source": [
        "def plot_predictions(train_data = X_train,\n",
        "                     train_labels=y_train,\n",
        "                     test_data=X_test,\n",
        "                     test_labels=y_test,\n",
        "                     predictions=None):\n",
        "  \"\"\"\n",
        "  Plots training data, test data, and Predictions.\n",
        "  \"\"\"\n",
        "  plt.figure(figsize=(10,7))\n",
        "\n",
        "  #Plot training data\n",
        "  plt.scatter(train_data, train_labels, c='b', s=4, label='Training Data')\n",
        "\n",
        "  #Plot testing data\n",
        "  plt.scatter(test_data, test_labels, c='g', s=4, label='Testing Data')\n",
        "\n",
        "  #Are there predictions?\n",
        "  if predictions is not None:\n",
        "    #Plot predictions if they exist\n",
        "    plt.scatter(test_data, predictions, c='r', s=4, label='Predictions')\n",
        "\n",
        "  #Show legend\n",
        "  plt.legend();"
      ],
      "metadata": {
        "id": "fD1Zow5-E1j3"
      },
      "execution_count": null,
      "outputs": []
    },
    {
      "cell_type": "code",
      "source": [
        "plot_predictions();"
      ],
      "metadata": {
        "id": "DyiVEIY7FpFT",
        "colab": {
          "base_uri": "https://localhost:8080/",
          "height": 460
        },
        "outputId": "fc228f15-57ae-47d3-965a-c1682add4ebf"
      },
      "execution_count": null,
      "outputs": [
        {
          "output_type": "display_data",
          "data": {
            "text/plain": [
              "<Figure size 1000x700 with 1 Axes>"
            ],
            "image/png": "[encoded data removed]"
          },
          "metadata": {}
        }
      ]
    },
    {
      "cell_type": "markdown",
      "source": [
        "###Building the Model"
      ],
      "metadata": {
        "id": "9zGFKzEshbbb"
      }
    },
    {
      "cell_type": "code",
      "source": [
        "#Create linear regression model class\n",
        "\n",
        "class LinearRegressionModel(nn.Module): #Almost all models inherit from nn.Module\n",
        "  def __init__(self):\n",
        "    super().__init__() #https://www.geeksforgeeks.org/python-super-with-__init__-method/\n",
        "\n",
        "    #Initializing model parameters (start with random values)\n",
        "    self.weights = nn.Parameter(torch.randn(1, #<- Start with a random value\n",
        "                                            requires_grad=True, #<- Should be updated with gradient descent. PyTorch will track descent for us with torch.autograd.\n",
        "                                            dtype=torch.float))\n",
        "    self.bias = nn.Parameter(torch.randn(1,\n",
        "                                         requires_grad=True,\n",
        "                                         dtype=torch.float))\n",
        "\n",
        "    #Forward method to define the computation in the model (ANY)\n",
        "  def forward(self, x: torch.Tensor) -> torch.Tensor: # x is the input data\n",
        "      return self.weights*x + self.bias\n",
        "\n"
      ],
      "metadata": {
        "id": "iZm6ihOY9Sxw"
      },
      "execution_count": null,
      "outputs": []
    },
    {
      "cell_type": "markdown",
      "source": [
        "####PyTorch Model building essentials\n",
        "\n",
        "* **torch.nn** contains all of the buildings for computational graphs (a neural network can be considered as a computational graph)\n",
        "* **torch.nn.Parameter** - what parameters should our model try and learn, often a PyTorch layer from torch.nn will set these for us.\n",
        "* **torch.nn.Module** - the base class for all neural network modules. If you subclass it, you should override forward()\n",
        "* **torch.optim** - for optimizers in PyTorch (helps with gradient descent)\n",
        "* **forward()** - All nn.Module subclasses require you to overwrite this function. Defines what happens in Forward pass(computation)"
      ],
      "metadata": {
        "id": "g3Y8aYLN_dI6"
      }
    },
    {
      "cell_type": "markdown",
      "source": [
        "####Checking contents of Model"
      ],
      "metadata": {
        "id": "MMrPDrwwf0jP"
      }
    },
    {
      "cell_type": "code",
      "source": [
        "torch.manual_seed(42)\n",
        "\n",
        "#Create an instance of the model\n",
        "model_0 = LinearRegressionModel()\n",
        "\n",
        "#Check out the parameters\n",
        "list(model_0.parameters())\n"
      ],
      "metadata": {
        "colab": {
          "base_uri": "https://localhost:8080/"
        },
        "id": "82sJAU7jh1c5",
        "outputId": "350c77fc-b38c-48be-cad2-43a4a9560e51"
      },
      "execution_count": null,
      "outputs": [
        {
          "output_type": "execute_result",
          "data": {
            "text/plain": [
              "[Parameter containing:\n",
              " tensor([0.3367], requires_grad=True),\n",
              " Parameter containing:\n",
              " tensor([0.1288], requires_grad=True)]"
            ]
          },
          "metadata": {},
          "execution_count": 13
        }
      ]
    },
    {
      "cell_type": "code",
      "source": [
        "#List named parameters\n",
        "model_0.state_dict()"
      ],
      "metadata": {
        "colab": {
          "base_uri": "https://localhost:8080/"
        },
        "id": "3gMBSCgBiq95",
        "outputId": "4049a315-b91b-4615-a873-7e8f78f90f1a"
      },
      "execution_count": null,
      "outputs": [
        {
          "output_type": "execute_result",
          "data": {
            "text/plain": [
              "OrderedDict([('weights', tensor([0.3367])), ('bias', tensor([0.1288]))])"
            ]
          },
          "metadata": {},
          "execution_count": 14
        }
      ]
    },
    {
      "cell_type": "code",
      "source": [
        "###Making predictions\n",
        "with torch.inference_mode(): #inference mode disables gradient tracking (which is not needed unless training which means code is faster)\n",
        "  y_preds = model_0(X_test)\n",
        "\n",
        "y_preds, y_test"
      ],
      "metadata": {
        "colab": {
          "base_uri": "https://localhost:8080/"
        },
        "id": "AARtwoqzjX42",
        "outputId": "81ede1b6-b4e6-4c2c-fc6f-af9673643d89"
      },
      "execution_count": null,
      "outputs": [
        {
          "output_type": "execute_result",
          "data": {
            "text/plain": [
              "(tensor([[0.3982],\n",
              "         [0.4049],\n",
              "         [0.4116],\n",
              "         [0.4184],\n",
              "         [0.4251],\n",
              "         [0.4318],\n",
              "         [0.4386],\n",
              "         [0.4453],\n",
              "         [0.4520],\n",
              "         [0.4588]]),\n",
              " tensor([[0.8600],\n",
              "         [0.8740],\n",
              "         [0.8880],\n",
              "         [0.9020],\n",
              "         [0.9160],\n",
              "         [0.9300],\n",
              "         [0.9440],\n",
              "         [0.9580],\n",
              "         [0.9720],\n",
              "         [0.9860]]))"
            ]
          },
          "metadata": {},
          "execution_count": 15
        }
      ]
    },
    {
      "cell_type": "code",
      "source": [
        "plot_predictions(predictions=y_preds)"
      ],
      "metadata": {
        "colab": {
          "base_uri": "https://localhost:8080/",
          "height": 460
        },
        "id": "mMMm_C4UmBOY",
        "outputId": "2d406b19-09a5-413e-d335-09a519952ffb"
      },
      "execution_count": null,
      "outputs": [
        {
          "output_type": "display_data",
          "data": {
            "text/plain": [
              "<Figure size 1000x700 with 1 Axes>"
            ],
            "image/png": "[encoded data removed]"
          },
          "metadata": {}
        }
      ]
    },
    {
      "cell_type": "markdown",
      "source": [
        "### Training Model\n",
        "\n",
        "We go from unknown (or random) parameters to known parameters(ideal outputs)\n",
        "\n",
        "Things we need to train:\n",
        "\n",
        "* **Loss function**: A function to measure how wrong your models predictions are w.r.t the ideal outputs. Lower value is better\n",
        "\n",
        "* **Optimizer**: Takes into account the loss of a model and adjusts model parameters(eg. weight and bias) to improve(lower) loss function values.\n",
        "\n",
        "Specifically for PyTorch we need\n",
        "\n",
        "* a training loop\n",
        "* a testing loop"
      ],
      "metadata": {
        "id": "ZtGQNwiJn6Gp"
      }
    },
    {
      "cell_type": "code",
      "source": [
        "#Setup loss function\n",
        "\n",
        "loss_fn = nn.L1Loss() #L1 is  Mean Absolute Error\n",
        "\n",
        "#Setup an optimizer(We're using Stochastic Gradient Descent)\n",
        "optimizer = torch.optim.SGD(params=model_0.parameters(),\n",
        "                            lr=0.01)#Learning rate-(we set it ourselves) aka How big of a step in Gradient descent\n",
        "\n"
      ],
      "metadata": {
        "id": "tydjgVVS3zvB"
      },
      "execution_count": null,
      "outputs": []
    },
    {
      "cell_type": "markdown",
      "source": [
        "#### Building a training loop and testing loop\n"
      ],
      "metadata": {
        "id": "0HGl4noR7uIB"
      }
    },
    {
      "cell_type": "markdown",
      "source": [
        "Steps:\n",
        "0. Loop through the data\n",
        "1. Forward Pass/Propagation (data moves throughour model's `forward()`)\n",
        "2. Calculate loss (compare forward pass predictions to ground truth labels)\n",
        "3. Optimizer zero grad\n",
        "4. **Backpropagation**/Loss backward - move backwards through network to calculate the gradients of each parameter of our model w.r.t to loss.                           \n",
        "5. Optimizer step - use optimizer to adjust model params to minimize loss (**gradient descent**)"
      ],
      "metadata": {
        "id": "Ybe0TSygUAAY"
      }
    },
    {
      "cell_type": "code",
      "source": [
        "torch.manual_seed(42)\n",
        "\n",
        "\n",
        "epochs = 250 #Single loop through data..(hyperparameter)\n",
        "\n",
        "\n",
        "\n",
        "#Tracking experiment values\n",
        "epoch_count= []\n",
        "loss_values=[]\n",
        "test_loss_values=[]\n",
        "\n",
        "\n",
        "#Training Loop (works and learns from training data)\n",
        "\n",
        "for epoch in range(epochs):\n",
        "  model_0.train() #set model to train mode. gradient tracking is ON-sets all parameters that require gradients to require gradients.\n",
        "\n",
        "  y_pred = model_0(X_train)\n",
        "\n",
        "  loss = loss_fn(y_pred, y_train)\n",
        "  #print(f\"Training Loss: {loss}\")\n",
        "\n",
        "  optimizer.zero_grad() #Prevents accumulation of gradients during backpropagation step. Read more : https://stackoverflow.com/questions/48001598/why-do-we-need-to-call-zero-grad-in-pytorch\n",
        "\n",
        "  loss.backward() #Backpropagation on loss function\n",
        "\n",
        "  optimizer.step() #Performs gradient descent\n",
        "\n",
        "\n",
        "  #Testing code (works with Test data)\n",
        "\n",
        "  model_0.eval() #evaluate/ testing mode turns off setting not needed for testing\n",
        "\n",
        "  with torch.inference_mode(): #turns off gradient tracking & some other things behind scenes.\n",
        "\n",
        "    test_pred = model_0(X_test) #Forward pass\n",
        "\n",
        "    test_loss = loss_fn(test_pred, y_test) #Calculate Loss\n",
        "\n",
        "    if epoch%10==0:\n",
        "\n",
        "      epoch_count.append(epoch)\n",
        "      loss_values.append(loss.detach())\n",
        "      test_loss_values.append(test_loss)\n",
        "\n",
        "      print(f\"{epoch} Epochs | Loss:{loss} | Test Loss:{test_loss} | Parameters: {model_0.state_dict()}\")\n",
        "\n"
      ],
      "metadata": {
        "colab": {
          "base_uri": "https://localhost:8080/"
        },
        "id": "p7Tl6W-4WkUY",
        "outputId": "2f76cdb0-719d-4c92-fef5-eff8f0656e5c"
      },
      "execution_count": null,
      "outputs": [
        {
          "output_type": "stream",
          "name": "stdout",
          "text": [
            "0 Epochs | Loss:0.31288138031959534 | Test Loss:0.48106518387794495 | Parameters: OrderedDict([('weights', tensor([0.3406])), ('bias', tensor([0.1388]))])\n",
            "10 Epochs | Loss:0.1976713240146637 | Test Loss:0.3463551998138428 | Parameters: OrderedDict([('weights', tensor([0.3796])), ('bias', tensor([0.2388]))])\n",
            "20 Epochs | Loss:0.08908725529909134 | Test Loss:0.21729660034179688 | Parameters: OrderedDict([('weights', tensor([0.4184])), ('bias', tensor([0.3333]))])\n",
            "30 Epochs | Loss:0.053148526698350906 | Test Loss:0.14464017748832703 | Parameters: OrderedDict([('weights', tensor([0.4512])), ('bias', tensor([0.3768]))])\n",
            "40 Epochs | Loss:0.04543796554207802 | Test Loss:0.11360953003168106 | Parameters: OrderedDict([('weights', tensor([0.4748])), ('bias', tensor([0.3868]))])\n",
            "50 Epochs | Loss:0.04167863354086876 | Test Loss:0.09919948130846024 | Parameters: OrderedDict([('weights', tensor([0.4938])), ('bias', tensor([0.3843]))])\n",
            "60 Epochs | Loss:0.03818932920694351 | Test Loss:0.08886633068323135 | Parameters: OrderedDict([('weights', tensor([0.5116])), ('bias', tensor([0.3788]))])\n",
            "70 Epochs | Loss:0.03476089984178543 | Test Loss:0.0805937647819519 | Parameters: OrderedDict([('weights', tensor([0.5288])), ('bias', tensor([0.3718]))])\n",
            "80 Epochs | Loss:0.03132382780313492 | Test Loss:0.07232122868299484 | Parameters: OrderedDict([('weights', tensor([0.5459])), ('bias', tensor([0.3648]))])\n",
            "90 Epochs | Loss:0.02788739837706089 | Test Loss:0.06473556160926819 | Parameters: OrderedDict([('weights', tensor([0.5629])), ('bias', tensor([0.3573]))])\n",
            "100 Epochs | Loss:0.024458957836031914 | Test Loss:0.05646304413676262 | Parameters: OrderedDict([('weights', tensor([0.5800])), ('bias', tensor([0.3503]))])\n",
            "110 Epochs | Loss:0.021020207554101944 | Test Loss:0.04819049686193466 | Parameters: OrderedDict([('weights', tensor([0.5972])), ('bias', tensor([0.3433]))])\n",
            "120 Epochs | Loss:0.01758546568453312 | Test Loss:0.04060482233762741 | Parameters: OrderedDict([('weights', tensor([0.6141])), ('bias', tensor([0.3358]))])\n",
            "130 Epochs | Loss:0.014155393466353416 | Test Loss:0.03233227878808975 | Parameters: OrderedDict([('weights', tensor([0.6313])), ('bias', tensor([0.3288]))])\n",
            "140 Epochs | Loss:0.010716589167714119 | Test Loss:0.024059748277068138 | Parameters: OrderedDict([('weights', tensor([0.6485])), ('bias', tensor([0.3218]))])\n",
            "150 Epochs | Loss:0.0072835334576666355 | Test Loss:0.016474086791276932 | Parameters: OrderedDict([('weights', tensor([0.6654])), ('bias', tensor([0.3143]))])\n",
            "160 Epochs | Loss:0.0038517764769494534 | Test Loss:0.008201557211577892 | Parameters: OrderedDict([('weights', tensor([0.6826])), ('bias', tensor([0.3073]))])\n",
            "170 Epochs | Loss:0.008932482451200485 | Test Loss:0.005023092031478882 | Parameters: OrderedDict([('weights', tensor([0.6951])), ('bias', tensor([0.2993]))])\n",
            "180 Epochs | Loss:0.008932482451200485 | Test Loss:0.005023092031478882 | Parameters: OrderedDict([('weights', tensor([0.6951])), ('bias', tensor([0.2993]))])\n",
            "190 Epochs | Loss:0.008932482451200485 | Test Loss:0.005023092031478882 | Parameters: OrderedDict([('weights', tensor([0.6951])), ('bias', tensor([0.2993]))])\n",
            "200 Epochs | Loss:0.008932482451200485 | Test Loss:0.005023092031478882 | Parameters: OrderedDict([('weights', tensor([0.6951])), ('bias', tensor([0.2993]))])\n",
            "210 Epochs | Loss:0.008932482451200485 | Test Loss:0.005023092031478882 | Parameters: OrderedDict([('weights', tensor([0.6951])), ('bias', tensor([0.2993]))])\n",
            "220 Epochs | Loss:0.008932482451200485 | Test Loss:0.005023092031478882 | Parameters: OrderedDict([('weights', tensor([0.6951])), ('bias', tensor([0.2993]))])\n",
            "230 Epochs | Loss:0.008932482451200485 | Test Loss:0.005023092031478882 | Parameters: OrderedDict([('weights', tensor([0.6951])), ('bias', tensor([0.2993]))])\n",
            "240 Epochs | Loss:0.008932482451200485 | Test Loss:0.005023092031478882 | Parameters: OrderedDict([('weights', tensor([0.6951])), ('bias', tensor([0.2993]))])\n"
          ]
        }
      ]
    },
    {
      "cell_type": "code",
      "source": [
        "plot_predictions(predictions = test_pred)"
      ],
      "metadata": {
        "colab": {
          "base_uri": "https://localhost:8080/",
          "height": 460
        },
        "id": "15Rl5jWXg2SM",
        "outputId": "b09e003e-51ab-4cf4-f43c-31007c303b97"
      },
      "execution_count": null,
      "outputs": [
        {
          "output_type": "display_data",
          "data": {
            "text/plain": [
              "<Figure size 1000x700 with 1 Axes>"
            ],
            "image/png": "[encoded data removed]"
          },
          "metadata": {}
        }
      ]
    },
    {
      "cell_type": "markdown",
      "source": [
        "####Plotting loss curves"
      ],
      "metadata": {
        "id": "9EF85BY_iGdn"
      }
    },
    {
      "cell_type": "code",
      "source": [
        "plt.plot(epoch_count, loss_values, label='Train loss')\n",
        "plt.plot(epoch_count, test_loss_values, label='Test loss')\n",
        "plt.title('Training and test loss curves')\n",
        "plt.ylabel('Loss')\n",
        "plt.xlabel('Epochs')\n",
        "plt.legend();"
      ],
      "metadata": {
        "colab": {
          "base_uri": "https://localhost:8080/",
          "height": 472
        },
        "id": "ybx9pmCDJs2g",
        "outputId": "733c6230-86e5-4219-acf7-21d86f6d8804"
      },
      "execution_count": null,
      "outputs": [
        {
          "output_type": "display_data",
          "data": {
            "text/plain": [
              "<Figure size 640x480 with 1 Axes>"
            ],
            "image/png": "[encoded data removed]"
          },
          "metadata": {}
        }
      ]
    },
    {
      "cell_type": "markdown",
      "source": [
        "###Saving and Loading the trained model\n",
        "\n",
        "There are 3 main methods to save and load models\n",
        "\n",
        "* `torch.save()` - saves PyTorch object in Pythons's pickle format\n",
        "* `torch.load()` - loads a saved Pytorch object\n",
        "\n",
        "* `torch.nn.Module.load_state_dict()` - allows us to load a models saved dictionary of parameters"
      ],
      "metadata": {
        "id": "FezTwcmEK2FA"
      }
    },
    {
      "cell_type": "code",
      "source": [
        "#Saving our PyTorch model\n",
        "from pathlib import Path\n",
        "\n",
        "#1. Create models directory\n",
        "\n",
        "MODEL_PATH = Path(\"models\")\n",
        "MODEL_PATH.mkdir(parents=True, exist_ok=True)\n",
        "\n",
        "#2. Create model save path\n",
        "\n",
        "MODEL_NAME = \"01_model_0.pth\"\n",
        "MODEL_SAVE_PATH = MODEL_PATH / MODEL_NAME\n",
        "\n",
        "MODEL_SAVE_PATH\n"
      ],
      "metadata": {
        "id": "wr98QOYkNhT9",
        "colab": {
          "base_uri": "https://localhost:8080/"
        },
        "outputId": "6ff5272e-32c6-4ded-c09c-fcdcf0a4eff6"
      },
      "execution_count": null,
      "outputs": [
        {
          "output_type": "execute_result",
          "data": {
            "text/plain": [
              "PosixPath('models/01_model_0.pth')"
            ]
          },
          "metadata": {},
          "execution_count": 21
        }
      ]
    },
    {
      "cell_type": "code",
      "source": [
        "#Save model state dict\n",
        "\n",
        "torch.save(obj=model_0.state_dict(),\n",
        "           f=MODEL_SAVE_PATH)\n",
        "\n",
        "\n",
        "\n"
      ],
      "metadata": {
        "id": "9fXtpGulZi-k"
      },
      "execution_count": null,
      "outputs": []
    },
    {
      "cell_type": "code",
      "source": [
        "model_0.state_dict()"
      ],
      "metadata": {
        "colab": {
          "base_uri": "https://localhost:8080/"
        },
        "id": "TDS3ykasAx79",
        "outputId": "12d7bb38-12d7-42bf-c2ff-50217493365a"
      },
      "execution_count": null,
      "outputs": [
        {
          "output_type": "execute_result",
          "data": {
            "text/plain": [
              "OrderedDict([('weights', tensor([0.6990])), ('bias', tensor([0.3093]))])"
            ]
          },
          "metadata": {},
          "execution_count": 23
        }
      ]
    },
    {
      "cell_type": "code",
      "source": [
        "#To test load() we instantiate a new instance of our model class LinearRegressionModel\n",
        "\n",
        "torch.manual_seed(60)\n",
        "\n",
        "loaded_model_0 = LinearRegressionModel()\n",
        "loaded_model_0.state_dict()"
      ],
      "metadata": {
        "colab": {
          "base_uri": "https://localhost:8080/"
        },
        "id": "L3sWK_CwA1Pk",
        "outputId": "dbbd232f-906d-4494-8ccb-e909836dc5fc"
      },
      "execution_count": null,
      "outputs": [
        {
          "output_type": "execute_result",
          "data": {
            "text/plain": [
              "OrderedDict([('weights', tensor([0.7534])), ('bias', tensor([1.8541]))])"
            ]
          },
          "metadata": {},
          "execution_count": 24
        }
      ]
    },
    {
      "cell_type": "code",
      "source": [
        "#Load the saved parameters to new model\n",
        "\n",
        "loaded_model_0.load_state_dict(torch.load(MODEL_SAVE_PATH))\n",
        "\n",
        "loaded_model_0.state_dict()"
      ],
      "metadata": {
        "colab": {
          "base_uri": "https://localhost:8080/"
        },
        "id": "0J7nfRa-A6sY",
        "outputId": "96b52ca9-af5c-4e38-a48a-6d3e500340a1"
      },
      "execution_count": null,
      "outputs": [
        {
          "output_type": "execute_result",
          "data": {
            "text/plain": [
              "OrderedDict([('weights', tensor([0.6990])), ('bias', tensor([0.3093]))])"
            ]
          },
          "metadata": {},
          "execution_count": 25
        }
      ]
    },
    {
      "cell_type": "code",
      "source": [
        "#Check predictions of the loaded model and compare to original model\n",
        "\n",
        "loaded_model_0.eval()\n",
        "\n",
        "with torch.inference_mode():\n",
        "  loaded_model_preds = loaded_model_0(X_test)\n",
        "\n",
        "#plot_predictions(predictions=loaded_model_preds)\n",
        "\n",
        "\n",
        "model_0.eval()\n",
        "\n",
        "with torch.inference_mode():\n",
        "  OG_model_preds = model_0(X_test)\n",
        "\n",
        "#plot_predictions(predictions=OG_model_preds)\n",
        "\n",
        "print(OG_model_preds==loaded_model_preds)"
      ],
      "metadata": {
        "colab": {
          "base_uri": "https://localhost:8080/"
        },
        "id": "H1xQ0FMnCUto",
        "outputId": "bfbb3aac-0e91-4080-b463-5ddbb6eb06d2"
      },
      "execution_count": null,
      "outputs": [
        {
          "output_type": "stream",
          "name": "stdout",
          "text": [
            "tensor([[True],\n",
            "        [True],\n",
            "        [True],\n",
            "        [True],\n",
            "        [True],\n",
            "        [True],\n",
            "        [True],\n",
            "        [True],\n",
            "        [True],\n",
            "        [True]])\n"
          ]
        }
      ]
    },
    {
      "cell_type": "markdown",
      "source": [
        "##Putting everything together"
      ],
      "metadata": {
        "id": "zJCk5gmWDOD0"
      }
    },
    {
      "cell_type": "code",
      "source": [
        "import torch\n",
        "from torch import nn\n",
        "import matplotlib.pyplot as plt\n",
        "\n",
        "torch.__version__"
      ],
      "metadata": {
        "colab": {
          "base_uri": "https://localhost:8080/",
          "height": 36
        },
        "id": "y89zH5sOGX8k",
        "outputId": "526ef9f1-dd66-4aa7-bddd-4318d7115a13"
      },
      "execution_count": null,
      "outputs": [
        {
          "output_type": "execute_result",
          "data": {
            "text/plain": [
              "'2.2.1+cu121'"
            ],
            "application/vnd.google.colaboratory.intrinsic+json": {
              "type": "string"
            }
          },
          "metadata": {},
          "execution_count": 20
        }
      ]
    },
    {
      "cell_type": "markdown",
      "source": [
        "Create device agnostic code. Uses GPU if available for faster computation."
      ],
      "metadata": {
        "id": "NONS_FJSG5uO"
      }
    },
    {
      "cell_type": "code",
      "source": [
        "device = \"cuda\" if torch.cuda.is_available() else \"cpu\"\n"
      ],
      "metadata": {
        "id": "RB3zwLEEHElk"
      },
      "execution_count": null,
      "outputs": []
    },
    {
      "cell_type": "code",
      "source": [
        "!nvidia-smi"
      ],
      "metadata": {
        "colab": {
          "base_uri": "https://localhost:8080/"
        },
        "id": "MrzTqAiNIA_d",
        "outputId": "72662dce-4522-4a4a-c4c9-7ee1b51a4c08"
      },
      "execution_count": null,
      "outputs": [
        {
          "output_type": "stream",
          "name": "stdout",
          "text": [
            "Sun May 19 11:36:45 2024       \n",
            "+---------------------------------------------------------------------------------------+\n",
            "| NVIDIA-SMI 535.104.05             Driver Version: 535.104.05   CUDA Version: 12.2     |\n",
            "|-----------------------------------------+----------------------+----------------------+\n",
            "| GPU  Name                 Persistence-M | Bus-Id        Disp.A | Volatile Uncorr. ECC |\n",
            "| Fan  Temp   Perf          Pwr:Usage/Cap |         Memory-Usage | GPU-Util  Compute M. |\n",
            "|                                         |                      |               MIG M. |\n",
            "|=========================================+======================+======================|\n",
            "|   0  Tesla T4                       Off | 00000000:00:04.0 Off |                    0 |\n",
            "| N/A   58C    P0              28W /  70W |    159MiB / 15360MiB |      0%      Default |\n",
            "|                                         |                      |                  N/A |\n",
            "+-----------------------------------------+----------------------+----------------------+\n",
            "                                                                                         \n",
            "+---------------------------------------------------------------------------------------+\n",
            "| Processes:                                                                            |\n",
            "|  GPU   GI   CI        PID   Type   Process name                            GPU Memory |\n",
            "|        ID   ID                                                             Usage      |\n",
            "|=======================================================================================|\n",
            "+---------------------------------------------------------------------------------------+\n"
          ]
        }
      ]
    },
    {
      "cell_type": "code",
      "source": [
        "weight = 0.4\n",
        "bias = 0.8\n",
        "\n",
        "start = 0\n",
        "end = 1.8\n",
        "step = 0.05\n",
        "\n",
        "X = torch.arange(start,end,step).unsqueeze(dim=1)\n",
        "y = weight*X + bias\n",
        "\n",
        "train_split = int(0.8 * len(X))\n",
        "\n",
        "X_train, y_train = X[:train_split], y[:train_split]\n",
        "\n",
        "X_test, y_test = X[train_split:], y[train_split:]\n",
        "\n",
        "\n",
        "\n",
        "def plot_predictions(train_data = X_train,\n",
        "                     train_labels=y_train,\n",
        "                     test_data=X_test,\n",
        "                     test_labels=y_test,\n",
        "                     predictions=None):\n",
        "  \"\"\"\n",
        "  Plots training data, test data, and Predictions.\n",
        "  \"\"\"\n",
        "  plt.figure(figsize=(10,7))\n",
        "\n",
        "  #Plot training data\n",
        "  plt.scatter(train_data, train_labels, c='b', s=4, label='Training Data')\n",
        "\n",
        "  #Plot testing data\n",
        "  plt.scatter(test_data, test_labels, c='g', s=4, label='Testing Data')\n",
        "\n",
        "  #Are there predictions?\n",
        "  if predictions is not None:\n",
        "    #Plot predictions if they exist\n",
        "    plt.scatter(test_data, predictions, c='r', s=4, label='Predictions')\n",
        "\n",
        "  #Show legend\n",
        "  plt.legend();\n",
        "\n",
        "\n",
        "plot_predictions(X_train, y_train, X_test, y_test)"
      ],
      "metadata": {
        "colab": {
          "base_uri": "https://localhost:8080/",
          "height": 460
        },
        "id": "rZChLt7BIH6Y",
        "outputId": "f8286687-365a-4214-d140-0756c409b3d5"
      },
      "execution_count": null,
      "outputs": [
        {
          "output_type": "display_data",
          "data": {
            "text/plain": [
              "<Figure size 1000x700 with 1 Axes>"
            ],
            "image/png": "[encoded data removed]"
          },
          "metadata": {}
        }
      ]
    },
    {
      "cell_type": "code",
      "source": [
        "#Creating a model by subclassing nn.Module\n",
        "\n",
        "class LinearRegressionModelV2(nn.Module):\n",
        "  def __init__(self):\n",
        "    super().__init__()\n",
        "    #Use nn.Linear() for initializing model parameters(aka: linear transforms/dense layer, probing layer, fully connected layer)\n",
        "    self.linear_layer = nn.Linear(in_features=1,out_features=1) #how many features are going into the model and what the model outputs\n",
        "\n",
        "  def forward(self, x: torch.Tensor) -> torch.Tensor:\n",
        "    return self.linear_layer(x)\n",
        "\n",
        "#Creating instance of model\n",
        "\n",
        "torch.manual_seed(42)\n",
        "\n",
        "model_1=LinearRegressionModelV2()\n",
        "model_1.state_dict()\n"
      ],
      "metadata": {
        "colab": {
          "base_uri": "https://localhost:8080/"
        },
        "id": "P6ArpE-xI8td",
        "outputId": "0b3d0250-c366-44d1-ad6d-fb3a55cc9eb6"
      },
      "execution_count": null,
      "outputs": [
        {
          "output_type": "execute_result",
          "data": {
            "text/plain": [
              "OrderedDict([('linear_layer.weight', tensor([[0.7645]])),\n",
              "             ('linear_layer.bias', tensor([0.8300]))])"
            ]
          },
          "metadata": {},
          "execution_count": 60
        }
      ]
    },
    {
      "cell_type": "code",
      "source": [
        "next(model_1.parameters()).device"
      ],
      "metadata": {
        "colab": {
          "base_uri": "https://localhost:8080/"
        },
        "id": "ACtG9MuAQBUE",
        "outputId": "31df6647-6fc8-4d74-9953-c150cb7cbd2d"
      },
      "execution_count": null,
      "outputs": [
        {
          "output_type": "execute_result",
          "data": {
            "text/plain": [
              "device(type='cpu')"
            ]
          },
          "metadata": {},
          "execution_count": 61
        }
      ]
    },
    {
      "cell_type": "code",
      "source": [
        "model_1.to(device)\n",
        "next(model_1.parameters()).device"
      ],
      "metadata": {
        "colab": {
          "base_uri": "https://localhost:8080/"
        },
        "id": "vr1Ou0WHQlgz",
        "outputId": "8f955b55-d08d-4e5f-a7ba-4d752a019d61"
      },
      "execution_count": null,
      "outputs": [
        {
          "output_type": "execute_result",
          "data": {
            "text/plain": [
              "device(type='cuda', index=0)"
            ]
          },
          "metadata": {},
          "execution_count": 62
        }
      ]
    },
    {
      "cell_type": "code",
      "source": [
        "lossfn = nn.L1Loss()\n",
        "optimizer = torch.optim.SGD(params=model_1.parameters(),\n",
        "                             lr=0.001)"
      ],
      "metadata": {
        "id": "MRiPwy3lQzV8"
      },
      "execution_count": null,
      "outputs": []
    },
    {
      "cell_type": "code",
      "source": [
        "#Training loop\n",
        "\n",
        "torch.manual_seed(42)\n",
        "\n",
        "#Write device agnostic code (Put the model and tensors into your GPU)\n",
        "\n",
        "X_train = X_train.to(device)\n",
        "X_test = X_test.to(device)\n",
        "y_train = y_train.to(device)\n",
        "y_test = y_test.to(device)\n",
        "\n",
        "\n",
        "\n",
        "epochs=1200\n",
        "\n",
        "epoch_count=[]\n",
        "train_loss=[]\n",
        "test_loss=[]\n",
        "\n",
        "for epoch in range(epochs):\n",
        "\n",
        "  model_1.train()\n",
        "\n",
        "  y_pred = model_1(X_train)\n",
        "\n",
        "  training_loss = lossfn(y_pred, y_train)\n",
        "\n",
        "  optimizer.zero_grad()\n",
        "\n",
        "  training_loss.backward()\n",
        "\n",
        "  optimizer.step()\n",
        "\n",
        "\n",
        "  model_1.eval()\n",
        "\n",
        "  with torch.inference_mode():\n",
        "\n",
        "    test_pred = model_1(X_test)\n",
        "\n",
        "    testing_loss = lossfn(test_pred, y_test)\n",
        "\n",
        "    epoch_count.append(epoch)\n",
        "    train_loss.append(training_loss.detach().cpu())\n",
        "    test_loss.append(testing_loss.cpu())\n",
        "\n",
        "    if epoch%50 == 0:\n",
        "\n",
        "      print(f\"{epoch} Epochs|| Train Loss:{training_loss} || Test Loss:{testing_loss}\")\n",
        "\n",
        "\n"
      ],
      "metadata": {
        "colab": {
          "base_uri": "https://localhost:8080/"
        },
        "id": "5iFBRPBvM_f1",
        "outputId": "92cfe478-38e6-41dc-f094-ec45778a0b28"
      },
      "execution_count": null,
      "outputs": [
        {
          "output_type": "stream",
          "name": "stdout",
          "text": [
            "0 Epochs|| Train Loss:0.2760714292526245 || Test Loss:0.6020928621292114\n",
            "50 Epochs|| Train Loss:0.20625479519367218 || Test Loss:0.5005949139595032\n",
            "100 Epochs|| Train Loss:0.15325766801834106 || Test Loss:0.4092574715614319\n",
            "150 Epochs|| Train Loss:0.11614328622817993 || Test Loss:0.3307274580001831\n",
            "200 Epochs|| Train Loss:0.09159601479768753 || Test Loss:0.265936017036438\n",
            "250 Epochs|| Train Loss:0.07670331001281738 || Test Loss:0.21578188240528107\n",
            "300 Epochs|| Train Loss:0.0675252377986908 || Test Loss:0.17821338772773743\n",
            "350 Epochs|| Train Loss:0.0615789033472538 || Test Loss:0.15200813114643097\n",
            "400 Epochs|| Train Loss:0.056841351091861725 || Test Loss:0.13226595520973206\n",
            "450 Epochs|| Train Loss:0.0527847595512867 || Test Loss:0.12000516057014465\n",
            "500 Epochs|| Train Loss:0.048728179186582565 || Test Loss:0.10774430632591248\n",
            "550 Epochs|| Train Loss:0.04467932879924774 || Test Loss:0.09580618143081665\n",
            "600 Epochs|| Train Loss:0.040711771696805954 || Test Loss:0.08725617825984955\n",
            "650 Epochs|| Train Loss:0.036744195967912674 || Test Loss:0.07870621979236603\n",
            "700 Epochs|| Train Loss:0.03277768939733505 || Test Loss:0.07031741738319397\n",
            "750 Epochs|| Train Loss:0.0288115032017231 || Test Loss:0.061767250299453735\n",
            "800 Epochs|| Train Loss:0.024845309555530548 || Test Loss:0.05321706831455231\n",
            "850 Epochs|| Train Loss:0.020876886323094368 || Test Loss:0.04474759101867676\n",
            "900 Epochs|| Train Loss:0.016910696402192116 || Test Loss:0.036197468638420105\n",
            "950 Epochs|| Train Loss:0.012944458052515984 || Test Loss:0.027647271752357483\n",
            "1000 Epochs|| Train Loss:0.008976868353784084 || Test Loss:0.019097089767456055\n",
            "1050 Epochs|| Train Loss:0.005009276792407036 || Test Loss:0.01054692268371582\n",
            "1100 Epochs|| Train Loss:0.0010436284355819225 || Test Loss:0.002077460289001465\n",
            "1150 Epochs|| Train Loss:0.00024755726917646825 || Test Loss:0.0019438862800598145\n"
          ]
        }
      ]
    },
    {
      "cell_type": "code",
      "source": [
        "model_1.state_dict()"
      ],
      "metadata": {
        "colab": {
          "base_uri": "https://localhost:8080/"
        },
        "id": "fQVV7upsV-xx",
        "outputId": "105a7fa3-da97-49fc-88b8-29507429596f"
      },
      "execution_count": null,
      "outputs": [
        {
          "output_type": "execute_result",
          "data": {
            "text/plain": [
              "OrderedDict([('linear_layer.weight', tensor([[0.4001]], device='cuda:0')),\n",
              "             ('linear_layer.bias', tensor([0.7997], device='cuda:0'))])"
            ]
          },
          "metadata": {},
          "execution_count": 65
        }
      ]
    },
    {
      "cell_type": "code",
      "source": [
        "plot_predictions(predictions = test_pred.cpu())"
      ],
      "metadata": {
        "colab": {
          "base_uri": "https://localhost:8080/",
          "height": 460
        },
        "id": "HsJz66epdRgP",
        "outputId": "95c7a1b4-190a-4c8f-860f-6c70d60cc3b1"
      },
      "execution_count": null,
      "outputs": [
        {
          "output_type": "display_data",
          "data": {
            "text/plain": [
              "<Figure size 1000x700 with 1 Axes>"
            ],
            "image/png": "[encoded data removed]"
          },
          "metadata": {}
        }
      ]
    },
    {
      "cell_type": "code",
      "source": [
        "plt.plot(epoch_count, train_loss, label=\"Training loss\")\n",
        "plt.plot(epoch_count, test_loss, label=\"Testing loss\" )\n",
        "plt.title(\"Loss curves\")\n",
        "plt.xlabel(\"Epochs\")\n",
        "plt.ylabel(\"Loss\")\n",
        "plt.legend();"
      ],
      "metadata": {
        "colab": {
          "base_uri": "https://localhost:8080/",
          "height": 472
        },
        "id": "9QKpMUoKdWU5",
        "outputId": "a70efb42-a451-48d1-a133-0ba124f83049"
      },
      "execution_count": null,
      "outputs": [
        {
          "output_type": "display_data",
          "data": {
            "text/plain": [
              "<Figure size 640x480 with 1 Axes>"
            ],
            "image/png": "[encoded data removed]"
          },
          "metadata": {}
        }
      ]
    },
    {
      "cell_type": "code",
      "source": [
        "from pathlib import Path\n",
        "MODEL_PATH = Path(\"models\")\n",
        "MODEL_PATH.mkdir(parents=True, exist_ok=True)\n",
        "\n",
        "MODEL_NAME = \"01_model_1.pth\"\n",
        "MODEL_SAVE_PATH = MODEL_PATH / MODEL_NAME\n",
        "\n",
        "print(f\"Saving to {MODEL_SAVE_PATH}\")\n",
        "torch.save(obj=model_1.state_dict(),f=MODEL_SAVE_PATH)"
      ],
      "metadata": {
        "colab": {
          "base_uri": "https://localhost:8080/"
        },
        "id": "Pa1VRRjzrDQd",
        "outputId": "fd29cdd2-094f-437f-a99f-8e874e398dc0"
      },
      "execution_count": null,
      "outputs": [
        {
          "output_type": "stream",
          "name": "stdout",
          "text": [
            "Saving to models/01_model_1.pth\n"
          ]
        }
      ]
    },
    {
      "cell_type": "code",
      "source": [
        "loaded_model_1 = LinearRegressionModelV2()\n",
        "\n",
        "loaded_model_1.load_state_dict(torch.load(MODEL_SAVE_PATH))\n",
        "\n",
        "loaded_model_1.to(device)"
      ],
      "metadata": {
        "colab": {
          "base_uri": "https://localhost:8080/"
        },
        "id": "28bXB39kq_75",
        "outputId": "81559792-f7fc-4cce-f0d0-00e9b9ee458d"
      },
      "execution_count": null,
      "outputs": [
        {
          "output_type": "execute_result",
          "data": {
            "text/plain": [
              "LinearRegressionModelV2(\n",
              "  (linear_layer): Linear(in_features=1, out_features=1, bias=True)\n",
              ")"
            ]
          },
          "metadata": {},
          "execution_count": 72
        }
      ]
    },
    {
      "cell_type": "code",
      "source": [
        "loaded_model_1.eval()\n",
        "with torch.inference_mode():\n",
        "  loaded_model_1_preds = loaded_model_1(X_test)\n",
        "test_pred == loaded_model_1_preds"
      ],
      "metadata": {
        "colab": {
          "base_uri": "https://localhost:8080/"
        },
        "id": "N9XzsqwIveat",
        "outputId": "f330a675-6e2c-447c-aa0a-b972dc060e46"
      },
      "execution_count": null,
      "outputs": [
        {
          "output_type": "execute_result",
          "data": {
            "text/plain": [
              "tensor([[True],\n",
              "        [True],\n",
              "        [True],\n",
              "        [True],\n",
              "        [True],\n",
              "        [True],\n",
              "        [True],\n",
              "        [True]], device='cuda:0')"
            ]
          },
          "metadata": {},
          "execution_count": 75
        }
      ]
    },
    {
      "cell_type": "code",
      "source": [],
      "metadata": {
        "id": "lV-BHY6hweKv"
      },
      "execution_count": null,
      "outputs": []
    }
  ]
}