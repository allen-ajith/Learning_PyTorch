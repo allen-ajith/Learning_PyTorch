{
  "nbformat": 4,
  "nbformat_minor": 0,
  "metadata": {
    "colab": {
      "provenance": [],
      "gpuType": "T4",
      "authorship_tag": "ABX9TyPWwlpxjKcJFq2WGs+otJKn",
      "include_colab_link": true
    },
    "kernelspec": {
      "name": "python3",
      "display_name": "Python 3"
    },
    "language_info": {
      "name": "python"
    },
    "accelerator": "GPU"
  },
  "cells": [
    {
      "cell_type": "markdown",
      "metadata": {
        "id": "view-in-github",
        "colab_type": "text"
      },
      "source": [
        "<a href=\"https://colab.research.google.com/github/allen-del/Learning_PyTorch/blob/main/00.%20Fundamentals/pytorch_fundamentals_exercises.ipynb\" target=\"_parent\"><img src=\"https://colab.research.google.com/assets/colab-badge.svg\" alt=\"Open In Colab\"/></a>"
      ]
    },
    {
      "cell_type": "markdown",
      "source": [
        "#Exercises from https://www.learnpytorch.io/00_pytorch_fundamentals/#exercises"
      ],
      "metadata": {
        "id": "G_2oTJrThOoc"
      }
    },
    {
      "cell_type": "markdown",
      "source": [
        "###Tasks 1, 2, 3, 4"
      ],
      "metadata": {
        "id": "51ADQtJxA5Oh"
      }
    },
    {
      "cell_type": "code",
      "source": [
        "import torch\n",
        "import numpy as np\n",
        "torch.manual_seed(0)\n",
        "x = torch.rand(7,7)\n",
        "x.shape\n"
      ],
      "metadata": {
        "colab": {
          "base_uri": "https://localhost:8080/"
        },
        "id": "UFQKvYT78m3v",
        "outputId": "61936b22-73cb-4e7a-89c3-7fb4d67d78f1"
      },
      "execution_count": null,
      "outputs": [
        {
          "output_type": "execute_result",
          "data": {
            "text/plain": [
              "torch.Size([7, 7])"
            ]
          },
          "metadata": {},
          "execution_count": 10
        }
      ]
    },
    {
      "cell_type": "code",
      "source": [
        "torch.manual_seed(0)\n",
        "y = torch.rand(1,7)\n",
        "y_new=y.T\n",
        "z=torch.matmul(x,y_new)\n",
        "print(f\"Tensor X:\\n{x,x.shape} @ \\n Tensor Y(Transposed for Matrix Multiplication):\\n{y_new,y_new.shape}\\n = Tensor Z:\\n{z,z.shape} \")"
      ],
      "metadata": {
        "colab": {
          "base_uri": "https://localhost:8080/"
        },
        "id": "1Cn66xpn8vD-",
        "outputId": "dbeeb48b-0880-44ec-e4f7-7219d4b398ba"
      },
      "execution_count": null,
      "outputs": [
        {
          "output_type": "stream",
          "name": "stdout",
          "text": [
            "Tensor X:\n",
            "(tensor([[0.4963, 0.7682, 0.0885, 0.1320, 0.3074, 0.6341, 0.4901],\n",
            "        [0.8964, 0.4556, 0.6323, 0.3489, 0.4017, 0.0223, 0.1689],\n",
            "        [0.2939, 0.5185, 0.6977, 0.8000, 0.1610, 0.2823, 0.6816],\n",
            "        [0.9152, 0.3971, 0.8742, 0.4194, 0.5529, 0.9527, 0.0362],\n",
            "        [0.1852, 0.3734, 0.3051, 0.9320, 0.1759, 0.2698, 0.1507],\n",
            "        [0.0317, 0.2081, 0.9298, 0.7231, 0.7423, 0.5263, 0.2437],\n",
            "        [0.5846, 0.0332, 0.1387, 0.2422, 0.8155, 0.7932, 0.2783]]), torch.Size([7, 7])) @ \n",
            " Tensor Y(Transposed for Matrix Multiplication):\n",
            "(tensor([[0.4963],\n",
            "        [0.7682],\n",
            "        [0.0885],\n",
            "        [0.1320],\n",
            "        [0.3074],\n",
            "        [0.6341],\n",
            "        [0.4901]]), torch.Size([7, 1]))\n",
            " = Tensor Z:\n",
            "(tensor([[1.5985],\n",
            "        [1.1173],\n",
            "        [1.2741],\n",
            "        [1.6838],\n",
            "        [0.8279],\n",
            "        [1.0347],\n",
            "        [1.2498]]), torch.Size([7, 1])) \n"
          ]
        }
      ]
    },
    {
      "cell_type": "markdown",
      "source": [
        "###Task 5\n",
        "\n",
        "Manual seed using GPU"
      ],
      "metadata": {
        "id": "avbqqtHz9SFZ"
      }
    },
    {
      "cell_type": "code",
      "source": [
        "import torch\n",
        "import numpy as np\n",
        "torch.cuda.is_available()"
      ],
      "metadata": {
        "colab": {
          "base_uri": "https://localhost:8080/"
        },
        "id": "hh99KUbFAVPU",
        "outputId": "5835912b-1d97-4716-fa0b-ca84516d97c8"
      },
      "execution_count": null,
      "outputs": [
        {
          "output_type": "execute_result",
          "data": {
            "text/plain": [
              "True"
            ]
          },
          "metadata": {},
          "execution_count": 1
        }
      ]
    },
    {
      "cell_type": "code",
      "source": [
        "\n",
        "torch.cuda.manual_seed(1234)\n",
        "x = torch.rand(7,7)\n",
        "x.shape\n"
      ],
      "metadata": {
        "colab": {
          "base_uri": "https://localhost:8080/"
        },
        "outputId": "18da3806-7142-47ed-b88d-7380c08df343",
        "id": "j-88zqLk_0y0"
      },
      "execution_count": null,
      "outputs": [
        {
          "output_type": "execute_result",
          "data": {
            "text/plain": [
              "torch.Size([7, 7])"
            ]
          },
          "metadata": {},
          "execution_count": 2
        }
      ]
    },
    {
      "cell_type": "code",
      "source": [
        "torch.manual_seed(1234)\n",
        "y = torch.rand(1,7)\n",
        "y_new=y.T\n",
        "z=torch.matmul(x,y_new)\n",
        "print(f\"Tensor X:\\n{x,x.shape} @ \\n Tensor Y(Transposed for Matrix Multiplication):\\n{y_new,y_new.shape}\\n = Tensor Z:\\n{z,z.shape} \")"
      ],
      "metadata": {
        "colab": {
          "base_uri": "https://localhost:8080/"
        },
        "outputId": "226b5687-18d0-462b-d6c4-84b2a291beeb",
        "id": "JejVy8-6_4zZ"
      },
      "execution_count": null,
      "outputs": [
        {
          "output_type": "stream",
          "name": "stdout",
          "text": [
            "Tensor X:\n",
            "(tensor([[0.6189, 0.5405, 0.3721, 0.2509, 0.6870, 0.7888, 0.1317],\n",
            "        [0.0399, 0.1904, 0.5136, 0.0348, 0.9489, 0.4304, 0.4897],\n",
            "        [0.5049, 0.8215, 0.9686, 0.2528, 0.1364, 0.8796, 0.1286],\n",
            "        [0.8067, 0.2194, 0.4839, 0.6541, 0.3686, 0.0572, 0.5168],\n",
            "        [0.4256, 0.9074, 0.1842, 0.7048, 0.4049, 0.6440, 0.3135],\n",
            "        [0.6286, 0.8647, 0.6968, 0.3007, 0.5033, 0.0713, 0.0483],\n",
            "        [0.3431, 0.0511, 0.5384, 0.0486, 0.7380, 0.9788, 0.7314]]), torch.Size([7, 7])) @ \n",
            " Tensor Y(Transposed for Matrix Multiplication):\n",
            "(tensor([[0.0290],\n",
            "        [0.4019],\n",
            "        [0.2598],\n",
            "        [0.3666],\n",
            "        [0.0583],\n",
            "        [0.7006],\n",
            "        [0.0518]]), torch.Size([7, 1]))\n",
            " = Tensor Z:\n",
            "(tensor([[1.0234],\n",
            "        [0.6061],\n",
            "        [1.3201],\n",
            "        [0.5654],\n",
            "        [1.1743],\n",
            "        [0.7389],\n",
            "        [0.9549]]), torch.Size([7, 1])) \n"
          ]
        }
      ]
    },
    {
      "cell_type": "markdown",
      "source": [
        "###Task 6, 7, 8, 9"
      ],
      "metadata": {
        "id": "bOtSQbnNAuKu"
      }
    },
    {
      "cell_type": "code",
      "source": [
        "torch.manual_seed(1234)\n",
        "a = torch.rand(2,3)\n",
        "torch.manual_seed(1234)\n",
        "b = torch.rand_like(a)\n",
        "a,b"
      ],
      "metadata": {
        "colab": {
          "base_uri": "https://localhost:8080/"
        },
        "id": "ALR8vK9qBGZw",
        "outputId": "b841990c-e33e-4bb5-f15b-335b51f6009e"
      },
      "execution_count": null,
      "outputs": [
        {
          "output_type": "execute_result",
          "data": {
            "text/plain": [
              "(tensor([[0.0290, 0.4019, 0.2598],\n",
              "         [0.3666, 0.0583, 0.7006]]),\n",
              " tensor([[0.0290, 0.4019, 0.2598],\n",
              "         [0.3666, 0.0583, 0.7006]]))"
            ]
          },
          "metadata": {},
          "execution_count": 9
        }
      ]
    },
    {
      "cell_type": "code",
      "source": [
        "device = 'cuda' if torch.cuda.is_available() else 'cpu'\n",
        "a.device,b.device"
      ],
      "metadata": {
        "colab": {
          "base_uri": "https://localhost:8080/"
        },
        "id": "9PzO9xOUBVsp",
        "outputId": "34e4c638-b5d2-4857-e4cd-01724aac00e4"
      },
      "execution_count": null,
      "outputs": [
        {
          "output_type": "execute_result",
          "data": {
            "text/plain": [
              "(device(type='cpu'), device(type='cpu'))"
            ]
          },
          "metadata": {},
          "execution_count": 12
        }
      ]
    },
    {
      "cell_type": "code",
      "source": [
        "a_on_gpu=a.to(device)\n",
        "b_on_gpu=b.to(device)"
      ],
      "metadata": {
        "id": "pY__zIlfB6k2"
      },
      "execution_count": null,
      "outputs": []
    },
    {
      "cell_type": "code",
      "source": [
        "a_on_gpu.device, b_on_gpu.device"
      ],
      "metadata": {
        "colab": {
          "base_uri": "https://localhost:8080/"
        },
        "id": "oGaBTwNHCUBV",
        "outputId": "f6d22231-db75-4556-bd5b-3209e1ef92ef"
      },
      "execution_count": null,
      "outputs": [
        {
          "output_type": "execute_result",
          "data": {
            "text/plain": [
              "(device(type='cuda', index=0), device(type='cuda', index=0))"
            ]
          },
          "metadata": {},
          "execution_count": 14
        }
      ]
    },
    {
      "cell_type": "code",
      "source": [
        "%%time\n",
        "z=torch.matmul(a_on_gpu,b_on_gpu.T)"
      ],
      "metadata": {
        "colab": {
          "base_uri": "https://localhost:8080/"
        },
        "id": "wfWU3ckQCa5a",
        "outputId": "69da9967-e990-464e-9c8c-38ff7678eed4"
      },
      "execution_count": null,
      "outputs": [
        {
          "output_type": "stream",
          "name": "stdout",
          "text": [
            "CPU times: user 1.19 ms, sys: 0 ns, total: 1.19 ms\n",
            "Wall time: 1.21 ms\n"
          ]
        }
      ]
    },
    {
      "cell_type": "code",
      "source": [
        "%%time\n",
        "torch.matmul(a,b.T)"
      ],
      "metadata": {
        "colab": {
          "base_uri": "https://localhost:8080/"
        },
        "id": "neTu-k7CCtiJ",
        "outputId": "ff198b20-4cea-4037-fbd8-87ecdb9592e6"
      },
      "execution_count": null,
      "outputs": [
        {
          "output_type": "stream",
          "name": "stdout",
          "text": [
            "CPU times: user 114 µs, sys: 6 µs, total: 120 µs\n",
            "Wall time: 126 µs\n"
          ]
        },
        {
          "output_type": "execute_result",
          "data": {
            "text/plain": [
              "tensor([[0.2299, 0.2161],\n",
              "        [0.2161, 0.6287]])"
            ]
          },
          "metadata": {},
          "execution_count": 24
        }
      ]
    },
    {
      "cell_type": "code",
      "source": [
        "z.max(),z.min()"
      ],
      "metadata": {
        "colab": {
          "base_uri": "https://localhost:8080/"
        },
        "id": "EfijkiJeCzKY",
        "outputId": "263ea6f2-a7b4-4e8b-83cd-b8abfaa60cc4"
      },
      "execution_count": null,
      "outputs": [
        {
          "output_type": "execute_result",
          "data": {
            "text/plain": [
              "(tensor(0.6287, device='cuda:0'), tensor(0.2161, device='cuda:0'))"
            ]
          },
          "metadata": {},
          "execution_count": 27
        }
      ]
    },
    {
      "cell_type": "code",
      "source": [
        "z.argmax(),z.argmin()"
      ],
      "metadata": {
        "colab": {
          "base_uri": "https://localhost:8080/"
        },
        "id": "NheYd8XFDMXC",
        "outputId": "8c990aff-3562-4cd0-98ef-ad2a09153cc1"
      },
      "execution_count": null,
      "outputs": [
        {
          "output_type": "execute_result",
          "data": {
            "text/plain": [
              "(tensor(3, device='cuda:0'), tensor(1, device='cuda:0'))"
            ]
          },
          "metadata": {},
          "execution_count": 28
        }
      ]
    },
    {
      "cell_type": "markdown",
      "source": [
        "### Task 10"
      ],
      "metadata": {
        "id": "qGjWOTtgEIhj"
      }
    },
    {
      "cell_type": "code",
      "source": [
        "torch.manual_seed(7)\n",
        "x = torch.rand(1,1,1,10)\n",
        "y = x.squeeze()\n",
        "print(f\"Tensor X: \\n{x,x.shape} \\n Tensor Y: \\n{y,y.shape}\")"
      ],
      "metadata": {
        "colab": {
          "base_uri": "https://localhost:8080/"
        },
        "id": "qvHJnwGmDZxo",
        "outputId": "d2b91de6-bba4-4ffe-dfc0-a6f6d0e6a659"
      },
      "execution_count": null,
      "outputs": [
        {
          "output_type": "stream",
          "name": "stdout",
          "text": [
            "Tensor X: \n",
            "(tensor([[[[0.5349, 0.1988, 0.6592, 0.6569, 0.2328, 0.4251, 0.2071, 0.6297,\n",
            "           0.3653, 0.8513]]]]), torch.Size([1, 1, 1, 10])) \n",
            " Tensor Y: \n",
            "(tensor([0.5349, 0.1988, 0.6592, 0.6569, 0.2328, 0.4251, 0.2071, 0.6297, 0.3653,\n",
            "        0.8513]), torch.Size([10]))\n"
          ]
        }
      ]
    }
  ]
}