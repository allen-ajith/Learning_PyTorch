{
  "nbformat": 4,
  "nbformat_minor": 0,
  "metadata": {
    "colab": {
      "provenance": [],
      "gpuType": "T4",
      "toc_visible": true,
      "authorship_tag": "ABX9TyO65KAJMPf2XOhPFEIJ7uJW",
      "include_colab_link": true
    },
    "kernelspec": {
      "name": "python3",
      "display_name": "Python 3"
    },
    "language_info": {
      "name": "python"
    },
    "accelerator": "GPU"
  },
  "cells": [
    {
      "cell_type": "markdown",
      "metadata": {
        "id": "view-in-github",
        "colab_type": "text"
      },
      "source": [
        "<a href=\"https://colab.research.google.com/github/allen-del/Learning_PyTorch/blob/main/00.%20Fundamentals/00pytorch_fundamentals.ipynb\" target=\"_parent\"><img src=\"https://colab.research.google.com/assets/colab-badge.svg\" alt=\"Open In Colab\"/></a>"
      ]
    },
    {
      "cell_type": "markdown",
      "source": [
        "# Learning the basics of Pytorch\n",
        "\n",
        "\n",
        "<p>Yes, the formatting does get better in the next few notebooks."
      ],
      "metadata": {
        "id": "rKXARHGMP6rR"
      }
    },
    {
      "cell_type": "code",
      "execution_count": null,
      "metadata": {
        "id": "PizWyFjSOfth",
        "colab": {
          "base_uri": "https://localhost:8080/"
        },
        "outputId": "1cc068b9-e070-48ef-f7ea-10634cde0d49"
      },
      "outputs": [
        {
          "output_type": "stream",
          "name": "stdout",
          "text": [
            "2.2.1+cu121\n"
          ]
        }
      ],
      "source": [
        "import torch\n",
        "import pandas as pd\n",
        "import numpy as np\n",
        "import matplotlib.pyplot as plt\n",
        "print(torch.__version__)"
      ]
    },
    {
      "cell_type": "markdown",
      "source": [
        "<h3>What are Tensors?\n",
        "<p>Simply just a multidimensional array of numbers (representing data)\n"
      ],
      "metadata": {
        "id": "fqAnmTK6QScB"
      }
    },
    {
      "cell_type": "markdown",
      "source": [
        "####Creating tensors"
      ],
      "metadata": {
        "id": "teixpNwv-gGS"
      }
    },
    {
      "cell_type": "code",
      "source": [
        "#scalar\n",
        "scalar = torch.tensor(1)\n",
        "scalar"
      ],
      "metadata": {
        "colab": {
          "base_uri": "https://localhost:8080/"
        },
        "id": "_KSqHj6g-ATm",
        "outputId": "68049799-506c-4012-c963-fc68e06b916d"
      },
      "execution_count": null,
      "outputs": [
        {
          "output_type": "execute_result",
          "data": {
            "text/plain": [
              "tensor(1)"
            ]
          },
          "metadata": {},
          "execution_count": 2
        }
      ]
    },
    {
      "cell_type": "code",
      "source": [
        "scalar.ndim"
      ],
      "metadata": {
        "colab": {
          "base_uri": "https://localhost:8080/"
        },
        "id": "kjbdqn2a-0tk",
        "outputId": "e96e16b9-246e-4e69-b7f8-7fdfa9ae210d"
      },
      "execution_count": null,
      "outputs": [
        {
          "output_type": "execute_result",
          "data": {
            "text/plain": [
              "0"
            ]
          },
          "metadata": {},
          "execution_count": 3
        }
      ]
    },
    {
      "cell_type": "code",
      "source": [
        "scalar.item()"
      ],
      "metadata": {
        "colab": {
          "base_uri": "https://localhost:8080/"
        },
        "id": "eI1fCKv9_h4e",
        "outputId": "2a9ddb01-57c9-46e2-fbe9-d2ac82bb7a48"
      },
      "execution_count": null,
      "outputs": [
        {
          "output_type": "execute_result",
          "data": {
            "text/plain": [
              "1"
            ]
          },
          "metadata": {},
          "execution_count": 4
        }
      ]
    },
    {
      "cell_type": "code",
      "source": [
        "#vector\n",
        "vector = torch.tensor([1,1])\n",
        "vector"
      ],
      "metadata": {
        "colab": {
          "base_uri": "https://localhost:8080/"
        },
        "id": "knDIklzE_n2y",
        "outputId": "b736406f-cfc1-44f1-fbe7-1bef8d02e093"
      },
      "execution_count": null,
      "outputs": [
        {
          "output_type": "execute_result",
          "data": {
            "text/plain": [
              "tensor([1, 1])"
            ]
          },
          "metadata": {},
          "execution_count": 5
        }
      ]
    },
    {
      "cell_type": "code",
      "source": [
        "vector.ndim\n"
      ],
      "metadata": {
        "colab": {
          "base_uri": "https://localhost:8080/"
        },
        "id": "xKro7Fmt_3ha",
        "outputId": "48275eb8-e2dc-4f43-a410-b13036e54eb0"
      },
      "execution_count": null,
      "outputs": [
        {
          "output_type": "execute_result",
          "data": {
            "text/plain": [
              "1"
            ]
          },
          "metadata": {},
          "execution_count": 6
        }
      ]
    },
    {
      "cell_type": "code",
      "source": [
        "vector.shape\n"
      ],
      "metadata": {
        "colab": {
          "base_uri": "https://localhost:8080/"
        },
        "id": "fNd6o-yiAAo7",
        "outputId": "549511a9-9c19-4ef5-d79c-4ff96a9253d3"
      },
      "execution_count": null,
      "outputs": [
        {
          "output_type": "execute_result",
          "data": {
            "text/plain": [
              "torch.Size([2])"
            ]
          },
          "metadata": {},
          "execution_count": 7
        }
      ]
    },
    {
      "cell_type": "markdown",
      "source": [
        "<p> <li>Dimensions(ndim) - count number of square brackets\n",
        "<p> <li>Shape - from outer to inner"
      ],
      "metadata": {
        "id": "JSDVq2U6AMyV"
      }
    },
    {
      "cell_type": "code",
      "source": [
        "#MATRIX\n",
        "MATRIX = torch.tensor([[1,2],[3,4]])\n",
        "MATRIX"
      ],
      "metadata": {
        "colab": {
          "base_uri": "https://localhost:8080/"
        },
        "id": "4yrY9lapAmxP",
        "outputId": "08a60ce7-4e0f-4612-89f5-4ee6ca462142"
      },
      "execution_count": null,
      "outputs": [
        {
          "output_type": "execute_result",
          "data": {
            "text/plain": [
              "tensor([[1, 2],\n",
              "        [3, 4]])"
            ]
          },
          "metadata": {},
          "execution_count": 8
        }
      ]
    },
    {
      "cell_type": "code",
      "source": [
        "MATRIX.ndim"
      ],
      "metadata": {
        "colab": {
          "base_uri": "https://localhost:8080/"
        },
        "id": "9sCQ7s-fA-rr",
        "outputId": "ef56dd17-34ea-4e95-d7e1-87bb22ff9f35"
      },
      "execution_count": null,
      "outputs": [
        {
          "output_type": "execute_result",
          "data": {
            "text/plain": [
              "2"
            ]
          },
          "metadata": {},
          "execution_count": 9
        }
      ]
    },
    {
      "cell_type": "code",
      "source": [
        "MATRIX.shape"
      ],
      "metadata": {
        "colab": {
          "base_uri": "https://localhost:8080/"
        },
        "id": "G1LVw0uxBaeK",
        "outputId": "b39bf039-c02a-4efb-9042-f26e2839fac5"
      },
      "execution_count": null,
      "outputs": [
        {
          "output_type": "execute_result",
          "data": {
            "text/plain": [
              "torch.Size([2, 2])"
            ]
          },
          "metadata": {},
          "execution_count": 10
        }
      ]
    },
    {
      "cell_type": "code",
      "source": [
        "#TENSOR\n",
        "TENSOR = torch.tensor([[[[1,2],[3,4],[5,6],],[[11,12],[13,14],[15,16]]]])\n",
        "TENSOR"
      ],
      "metadata": {
        "colab": {
          "base_uri": "https://localhost:8080/"
        },
        "id": "mK9mpCmLBg6E",
        "outputId": "2d1d7678-bc62-4f16-abb6-e45159b21725"
      },
      "execution_count": null,
      "outputs": [
        {
          "output_type": "execute_result",
          "data": {
            "text/plain": [
              "tensor([[[[ 1,  2],\n",
              "          [ 3,  4],\n",
              "          [ 5,  6]],\n",
              "\n",
              "         [[11, 12],\n",
              "          [13, 14],\n",
              "          [15, 16]]]])"
            ]
          },
          "metadata": {},
          "execution_count": 11
        }
      ]
    },
    {
      "cell_type": "code",
      "source": [
        "TENSOR.ndim"
      ],
      "metadata": {
        "colab": {
          "base_uri": "https://localhost:8080/"
        },
        "id": "BWaw87OZCFwf",
        "outputId": "30b75679-ae22-4e50-a8ac-3fbd9c2f54e3"
      },
      "execution_count": null,
      "outputs": [
        {
          "output_type": "execute_result",
          "data": {
            "text/plain": [
              "4"
            ]
          },
          "metadata": {},
          "execution_count": 12
        }
      ]
    },
    {
      "cell_type": "code",
      "source": [
        "TENSOR.shape"
      ],
      "metadata": {
        "colab": {
          "base_uri": "https://localhost:8080/"
        },
        "id": "Mnk1QJUtCKQd",
        "outputId": "ddbf3549-2c4c-4b7a-94dd-41f49ccc3b5d"
      },
      "execution_count": null,
      "outputs": [
        {
          "output_type": "execute_result",
          "data": {
            "text/plain": [
              "torch.Size([1, 2, 3, 2])"
            ]
          },
          "metadata": {},
          "execution_count": 13
        }
      ]
    },
    {
      "cell_type": "code",
      "source": [
        "TENSOR[0]"
      ],
      "metadata": {
        "colab": {
          "base_uri": "https://localhost:8080/"
        },
        "id": "X9ewA0_JCMzv",
        "outputId": "d0de8a10-d1ad-4ac0-dd1f-697897315f91"
      },
      "execution_count": null,
      "outputs": [
        {
          "output_type": "execute_result",
          "data": {
            "text/plain": [
              "tensor([[[ 1,  2],\n",
              "         [ 3,  4],\n",
              "         [ 5,  6]],\n",
              "\n",
              "        [[11, 12],\n",
              "         [13, 14],\n",
              "         [15, 16]]])"
            ]
          },
          "metadata": {},
          "execution_count": 14
        }
      ]
    },
    {
      "cell_type": "markdown",
      "source": [
        "#####Zero and Empty Tensors"
      ],
      "metadata": {
        "id": "L9-Trk81CReM"
      }
    },
    {
      "cell_type": "code",
      "source": [
        "#tensors intialized with zeros as elements\n",
        "zero_tensor = torch.zeros(1,2,3)\n",
        "zero_tensor"
      ],
      "metadata": {
        "id": "zBLNA55CCWBu",
        "colab": {
          "base_uri": "https://localhost:8080/"
        },
        "outputId": "6949555f-7856-4924-d9ba-440116e3adba"
      },
      "execution_count": null,
      "outputs": [
        {
          "output_type": "execute_result",
          "data": {
            "text/plain": [
              "tensor([[[0., 0., 0.],\n",
              "         [0., 0., 0.]]])"
            ]
          },
          "metadata": {},
          "execution_count": 15
        }
      ]
    },
    {
      "cell_type": "code",
      "source": [
        "zero_tensor.ndim"
      ],
      "metadata": {
        "colab": {
          "base_uri": "https://localhost:8080/"
        },
        "id": "gH4NCDQQdIlH",
        "outputId": "d3a96e25-051b-459e-8be4-7909fea658a2"
      },
      "execution_count": null,
      "outputs": [
        {
          "output_type": "execute_result",
          "data": {
            "text/plain": [
              "3"
            ]
          },
          "metadata": {},
          "execution_count": 16
        }
      ]
    },
    {
      "cell_type": "code",
      "source": [
        "zero_tensor.shape"
      ],
      "metadata": {
        "colab": {
          "base_uri": "https://localhost:8080/"
        },
        "id": "vBewCXl5dtOx",
        "outputId": "2aa64c70-0b31-4c62-d89c-c24a5f3e8b3f"
      },
      "execution_count": null,
      "outputs": [
        {
          "output_type": "execute_result",
          "data": {
            "text/plain": [
              "torch.Size([1, 2, 3])"
            ]
          },
          "metadata": {},
          "execution_count": 17
        }
      ]
    },
    {
      "cell_type": "code",
      "source": [
        "#Empty tensors\n",
        "\n",
        "empty_tensor = torch.empty(1,2)\n",
        "empty_tensor"
      ],
      "metadata": {
        "colab": {
          "base_uri": "https://localhost:8080/"
        },
        "id": "Hf04y6MUdwLq",
        "outputId": "6e5740c4-cd8a-4073-9664-68b0c0f58452"
      },
      "execution_count": null,
      "outputs": [
        {
          "output_type": "execute_result",
          "data": {
            "text/plain": [
              "tensor([[3.2045e-31, 4.5768e-41]])"
            ]
          },
          "metadata": {},
          "execution_count": 18
        }
      ]
    },
    {
      "cell_type": "markdown",
      "source": [
        "<p> For empty tensors only memory is allocated"
      ],
      "metadata": {
        "id": "eJ1rnEwpd9_0"
      }
    },
    {
      "cell_type": "markdown",
      "source": [
        "#####Random tensors and Reproducibility\n",
        "\n",
        "To reduce the generated randomness we can use **random seed** to flavour randomness"
      ],
      "metadata": {
        "id": "rxoa_mwNeVaQ"
      }
    },
    {
      "cell_type": "code",
      "source": [
        "random = torch.rand(2,3,4)\n",
        "random"
      ],
      "metadata": {
        "colab": {
          "base_uri": "https://localhost:8080/"
        },
        "id": "MdSjWnqYebPX",
        "outputId": "fc8104c0-a4f3-4a59-befb-71878481727e"
      },
      "execution_count": null,
      "outputs": [
        {
          "output_type": "execute_result",
          "data": {
            "text/plain": [
              "tensor([[[0.3870, 0.5463, 0.8028, 0.9109],\n",
              "         [0.7242, 0.8855, 0.0479, 0.3936],\n",
              "         [0.9709, 0.3566, 0.3618, 0.8653]],\n",
              "\n",
              "        [[0.4084, 0.3207, 0.5440, 0.4719],\n",
              "         [0.3569, 0.6773, 0.0655, 0.9412],\n",
              "         [0.8703, 0.3457, 0.0424, 0.2824]]])"
            ]
          },
          "metadata": {},
          "execution_count": 19
        }
      ]
    },
    {
      "cell_type": "code",
      "source": [],
      "metadata": {
        "id": "LhL_rAkjdICG"
      },
      "execution_count": null,
      "outputs": []
    },
    {
      "cell_type": "code",
      "source": [
        "random1 = torch.rand(2,3,4)\n",
        "random1"
      ],
      "metadata": {
        "colab": {
          "base_uri": "https://localhost:8080/"
        },
        "id": "ZhCXnEVpe6Yx",
        "outputId": "dee6d041-5c3b-4f7a-bbe5-b153c9df7fdd"
      },
      "execution_count": null,
      "outputs": [
        {
          "output_type": "execute_result",
          "data": {
            "text/plain": [
              "tensor([[[0.3520, 0.4617, 0.5193, 0.4751],\n",
              "         [0.0615, 0.3522, 0.0855, 0.7950],\n",
              "         [0.0042, 0.0321, 0.3942, 0.4632]],\n",
              "\n",
              "        [[0.8483, 0.5673, 0.0531, 0.2544],\n",
              "         [0.1366, 0.3231, 0.6628, 0.8954],\n",
              "         [0.6514, 0.2493, 0.7901, 0.9694]]])"
            ]
          },
          "metadata": {},
          "execution_count": 20
        }
      ]
    },
    {
      "cell_type": "code",
      "source": [
        "#If we manually seed then both random tensors generated will have the same value\n",
        "torch.manual_seed(69)\n",
        "random2 = torch.rand(1,2,3)\n",
        "random2"
      ],
      "metadata": {
        "colab": {
          "base_uri": "https://localhost:8080/"
        },
        "id": "rXlqnZSffCal",
        "outputId": "de1669c5-7259-4bf7-fc99-acd4c8ec012e"
      },
      "execution_count": null,
      "outputs": [
        {
          "output_type": "execute_result",
          "data": {
            "text/plain": [
              "tensor([[[0.8398, 0.8042, 0.1213],\n",
              "         [0.5309, 0.6646, 0.4077]]])"
            ]
          },
          "metadata": {},
          "execution_count": 21
        }
      ]
    },
    {
      "cell_type": "code",
      "source": [
        "torch.manual_seed(69)\n",
        "random3 = torch.rand(1,2,3)\n",
        "random3"
      ],
      "metadata": {
        "colab": {
          "base_uri": "https://localhost:8080/"
        },
        "id": "jFAyr_4Wfc6i",
        "outputId": "96354916-22b8-48ca-ce6a-f05303c96bf0"
      },
      "execution_count": null,
      "outputs": [
        {
          "output_type": "execute_result",
          "data": {
            "text/plain": [
              "tensor([[[0.8398, 0.8042, 0.1213],\n",
              "         [0.5309, 0.6646, 0.4077]]])"
            ]
          },
          "metadata": {},
          "execution_count": 22
        }
      ]
    },
    {
      "cell_type": "code",
      "source": [
        "random3.dtype"
      ],
      "metadata": {
        "colab": {
          "base_uri": "https://localhost:8080/"
        },
        "id": "3WVlCYMjfp5j",
        "outputId": "9ae6a4f8-c8a4-4d05-c697-c0b53ba0d7b6"
      },
      "execution_count": null,
      "outputs": [
        {
          "output_type": "execute_result",
          "data": {
            "text/plain": [
              "torch.float32"
            ]
          },
          "metadata": {},
          "execution_count": 23
        }
      ]
    },
    {
      "cell_type": "markdown",
      "source": [
        "#####Creating a range of tensors and tensors like (sharing same dimensions)"
      ],
      "metadata": {
        "id": "VIygoDl6oHx6"
      }
    },
    {
      "cell_type": "code",
      "source": [
        "one_to_ten = torch.arange(start=1, end=11, step=1)\n",
        "one_to_ten"
      ],
      "metadata": {
        "colab": {
          "base_uri": "https://localhost:8080/"
        },
        "id": "N5OU0E7doexa",
        "outputId": "34a4dd28-8d2e-45bd-8895-bcdd57ccceb4"
      },
      "execution_count": null,
      "outputs": [
        {
          "output_type": "execute_result",
          "data": {
            "text/plain": [
              "tensor([ 1,  2,  3,  4,  5,  6,  7,  8,  9, 10])"
            ]
          },
          "metadata": {},
          "execution_count": 24
        }
      ]
    },
    {
      "cell_type": "code",
      "source": [
        "#You can directly write the arguments also\n",
        "one_to_five = torch.arange(1,6,1)\n",
        "one_to_five"
      ],
      "metadata": {
        "colab": {
          "base_uri": "https://localhost:8080/"
        },
        "id": "Oo5OdfNQRYxh",
        "outputId": "dd656ae4-87e1-4e1b-bfd1-f4cc39b5ba7b"
      },
      "execution_count": null,
      "outputs": [
        {
          "output_type": "execute_result",
          "data": {
            "text/plain": [
              "tensor([1, 2, 3, 4, 5])"
            ]
          },
          "metadata": {},
          "execution_count": 141
        }
      ]
    },
    {
      "cell_type": "code",
      "source": [
        "ten_zeros = torch.zeros_like(one_to_ten)\n",
        "ten_zeros"
      ],
      "metadata": {
        "colab": {
          "base_uri": "https://localhost:8080/"
        },
        "id": "ELWKWmbPpx5e",
        "outputId": "7ca0e480-ba2c-42ec-88c6-c37ba4fdd373"
      },
      "execution_count": null,
      "outputs": [
        {
          "output_type": "execute_result",
          "data": {
            "text/plain": [
              "tensor([0, 0, 0, 0, 0, 0, 0, 0, 0, 0])"
            ]
          },
          "metadata": {},
          "execution_count": 30
        }
      ]
    },
    {
      "cell_type": "markdown",
      "source": [
        "###Tensor datatypes\n",
        "<p> Mainly float16,32,64 and int32,64(aka Long)"
      ],
      "metadata": {
        "id": "LzhWT0EwqYe6"
      }
    },
    {
      "cell_type": "code",
      "source": [
        "float_32_tensor = torch.tensor([2.0,1.9,3.0],\n",
        "                               dtype=None,#Data type of Tensor. Usually float 32(single precision) by default unless specified\n",
        "                               device=None,#Default is CPU. Operations have to be performed between tensors in the same device ie both in CPU or CUDA\n",
        "                               requires_grad=False)"
      ],
      "metadata": {
        "id": "FrNJD4rfqhDy"
      },
      "execution_count": null,
      "outputs": []
    },
    {
      "cell_type": "code",
      "source": [
        "float_32_tensor.dtype"
      ],
      "metadata": {
        "colab": {
          "base_uri": "https://localhost:8080/"
        },
        "id": "JSgoYlWTrE1e",
        "outputId": "6f87a847-efa4-4b9c-d229-da825967bb8e"
      },
      "execution_count": null,
      "outputs": [
        {
          "output_type": "execute_result",
          "data": {
            "text/plain": [
              "torch.float32"
            ]
          },
          "metadata": {},
          "execution_count": 33
        }
      ]
    },
    {
      "cell_type": "code",
      "source": [
        "#changing the type\n",
        "float_16_tensor = float_32_tensor.type(torch.float16)\n",
        "float_16_tensor.dtype"
      ],
      "metadata": {
        "colab": {
          "base_uri": "https://localhost:8080/"
        },
        "id": "AtpnPBmksz9P",
        "outputId": "ca18e2b6-3836-460e-c6b6-4fa8fb67ae5c"
      },
      "execution_count": null,
      "outputs": [
        {
          "output_type": "execute_result",
          "data": {
            "text/plain": [
              "torch.float16"
            ]
          },
          "metadata": {},
          "execution_count": 34
        }
      ]
    },
    {
      "cell_type": "code",
      "source": [
        "result= float_16_tensor*float_32_tensor\n",
        "result.dtype"
      ],
      "metadata": {
        "colab": {
          "base_uri": "https://localhost:8080/"
        },
        "id": "jDhLqauss3-W",
        "outputId": "8e514907-4fa9-4473-abb9-aed5d3cf814a"
      },
      "execution_count": null,
      "outputs": [
        {
          "output_type": "execute_result",
          "data": {
            "text/plain": [
              "torch.float32"
            ]
          },
          "metadata": {},
          "execution_count": 35
        }
      ]
    },
    {
      "cell_type": "code",
      "source": [
        "int_32_tensor=torch.tensor([1,2,3],dtype=torch.int32)\n",
        "int_32_tensor"
      ],
      "metadata": {
        "colab": {
          "base_uri": "https://localhost:8080/"
        },
        "id": "EDQv1iydtSjN",
        "outputId": "95848751-e605-4043-9f79-287f543aafdd"
      },
      "execution_count": null,
      "outputs": [
        {
          "output_type": "execute_result",
          "data": {
            "text/plain": [
              "tensor([1, 2, 3], dtype=torch.int32)"
            ]
          },
          "metadata": {},
          "execution_count": 36
        }
      ]
    },
    {
      "cell_type": "code",
      "source": [
        "result=float_32_tensor*int_32_tensor\n",
        "result,result.dtype\n"
      ],
      "metadata": {
        "colab": {
          "base_uri": "https://localhost:8080/"
        },
        "id": "5xNOU1K7t7fG",
        "outputId": "e84db23b-a4b2-444c-ddd5-209ebc2b24db"
      },
      "execution_count": null,
      "outputs": [
        {
          "output_type": "execute_result",
          "data": {
            "text/plain": [
              "(tensor([2.0000, 3.8000, 9.0000]), torch.float32)"
            ]
          },
          "metadata": {},
          "execution_count": 37
        }
      ]
    },
    {
      "cell_type": "code",
      "source": [
        "result=int_32_tensor*float_16_tensor\n",
        "result,result.dtype"
      ],
      "metadata": {
        "colab": {
          "base_uri": "https://localhost:8080/"
        },
        "id": "8yrnJt_4ujbg",
        "outputId": "721f1fa5-5dc6-474f-ca9b-fe05a277807d"
      },
      "execution_count": null,
      "outputs": [
        {
          "output_type": "execute_result",
          "data": {
            "text/plain": [
              "(tensor([2.0000, 3.8008, 9.0000], dtype=torch.float16), torch.float16)"
            ]
          },
          "metadata": {},
          "execution_count": 38
        }
      ]
    },
    {
      "cell_type": "code",
      "source": [
        "result.device"
      ],
      "metadata": {
        "colab": {
          "base_uri": "https://localhost:8080/"
        },
        "id": "CDucSFOzu1Px",
        "outputId": "5810550e-6b90-4829-ea00-8c6bd79cbf2c"
      },
      "execution_count": null,
      "outputs": [
        {
          "output_type": "execute_result",
          "data": {
            "text/plain": [
              "device(type='cpu')"
            ]
          },
          "metadata": {},
          "execution_count": 39
        }
      ]
    },
    {
      "cell_type": "code",
      "source": [
        "#Recap\n",
        "some_tensor = torch.rand(2,3)\n",
        "some_tensor.dtype"
      ],
      "metadata": {
        "colab": {
          "base_uri": "https://localhost:8080/"
        },
        "id": "R5Gh5MoWvflA",
        "outputId": "f8059bef-ea42-4f7b-ef09-f96039e2f3c7"
      },
      "execution_count": null,
      "outputs": [
        {
          "output_type": "execute_result",
          "data": {
            "text/plain": [
              "torch.float32"
            ]
          },
          "metadata": {},
          "execution_count": 40
        }
      ]
    },
    {
      "cell_type": "code",
      "source": [
        "some_tensor.type(torch.float16)"
      ],
      "metadata": {
        "colab": {
          "base_uri": "https://localhost:8080/"
        },
        "id": "r_Q10OkjwE6M",
        "outputId": "ebbc7291-c29d-4a40-c5c5-4d217eeb7090"
      },
      "execution_count": null,
      "outputs": [
        {
          "output_type": "execute_result",
          "data": {
            "text/plain": [
              "tensor([[0.0887, 0.2429, 0.7056],\n",
              "        [0.6216, 0.9189, 0.0185]], dtype=torch.float16)"
            ]
          },
          "metadata": {},
          "execution_count": 41
        }
      ]
    },
    {
      "cell_type": "code",
      "source": [
        "some_tensor.shape"
      ],
      "metadata": {
        "colab": {
          "base_uri": "https://localhost:8080/"
        },
        "id": "RL5rsXRUwafs",
        "outputId": "9a0203ca-b8f5-4139-f5e6-cc2cfdc2fdba"
      },
      "execution_count": null,
      "outputs": [
        {
          "output_type": "execute_result",
          "data": {
            "text/plain": [
              "torch.Size([2, 3])"
            ]
          },
          "metadata": {},
          "execution_count": 42
        }
      ]
    },
    {
      "cell_type": "code",
      "source": [
        "some_tensor.device"
      ],
      "metadata": {
        "colab": {
          "base_uri": "https://localhost:8080/"
        },
        "id": "CM0RdFhDwhKB",
        "outputId": "6bff4458-a630-4747-ebd0-76f0b12b5bff"
      },
      "execution_count": null,
      "outputs": [
        {
          "output_type": "execute_result",
          "data": {
            "text/plain": [
              "device(type='cpu')"
            ]
          },
          "metadata": {},
          "execution_count": 43
        }
      ]
    },
    {
      "cell_type": "markdown",
      "source": [
        "###Manipulating Tensors(Tensor Operations)\n",
        "<p> Element operations: <ul>\n",
        "<li> Addition\n",
        "<li> Subtraction\n",
        "<li> Division\n",
        "<li> Multiplication (different from Matrix Multiplication)\n"
      ],
      "metadata": {
        "id": "4FVPFdXtwj01"
      }
    },
    {
      "cell_type": "code",
      "source": [
        "tensor = torch.arange(start=1,end=5,step=1)\n",
        "tensor, tensor+2, tensor-10, tensor*10, tensor/10"
      ],
      "metadata": {
        "colab": {
          "base_uri": "https://localhost:8080/"
        },
        "id": "CtfWG_CixpMA",
        "outputId": "37ff1ec5-64bc-42d7-e4f0-c6ef80d46afa"
      },
      "execution_count": null,
      "outputs": [
        {
          "output_type": "execute_result",
          "data": {
            "text/plain": [
              "(tensor([1, 2, 3, 4]),\n",
              " tensor([3, 4, 5, 6]),\n",
              " tensor([-9, -8, -7, -6]),\n",
              " tensor([10, 20, 30, 40]),\n",
              " tensor([0.1000, 0.2000, 0.3000, 0.4000]))"
            ]
          },
          "metadata": {},
          "execution_count": 48
        }
      ]
    },
    {
      "cell_type": "code",
      "source": [
        "torch.mul(tensor, 20),torch.add(tensor,10)"
      ],
      "metadata": {
        "colab": {
          "base_uri": "https://localhost:8080/"
        },
        "id": "1ZwLKplUyZs6",
        "outputId": "39c5ee0e-e5e5-4f0c-bbca-0b3d1c694b3f"
      },
      "execution_count": null,
      "outputs": [
        {
          "output_type": "execute_result",
          "data": {
            "text/plain": [
              "(tensor([20, 40, 60, 80]), tensor([11, 12, 13, 14]))"
            ]
          },
          "metadata": {},
          "execution_count": 49
        }
      ]
    },
    {
      "cell_type": "code",
      "source": [
        "%%time\n",
        "value=0\n",
        "for i in range (len(tensor)):\n",
        "  value+=tensor[i]*tensor[i]\n",
        "value"
      ],
      "metadata": {
        "colab": {
          "base_uri": "https://localhost:8080/"
        },
        "id": "JvpbMh-_y8gS",
        "outputId": "3c1f5a0c-a62e-4078-ef58-13a033da2195"
      },
      "execution_count": null,
      "outputs": [
        {
          "output_type": "stream",
          "name": "stdout",
          "text": [
            "CPU times: user 303 µs, sys: 0 ns, total: 303 µs\n",
            "Wall time: 312 µs\n"
          ]
        },
        {
          "output_type": "execute_result",
          "data": {
            "text/plain": [
              "tensor(30)"
            ]
          },
          "metadata": {},
          "execution_count": 50
        }
      ]
    },
    {
      "cell_type": "code",
      "source": [
        "%%time\n",
        "torch.matmul(tensor,tensor)\n",
        "#torch uses vectorization to achieve much faster speeds than manual looping, multiplication and addition"
      ],
      "metadata": {
        "colab": {
          "base_uri": "https://localhost:8080/"
        },
        "id": "jtExBHsi1qUr",
        "outputId": "97bb9fdd-a4c7-41d4-be11-580c52add769"
      },
      "execution_count": null,
      "outputs": [
        {
          "output_type": "stream",
          "name": "stdout",
          "text": [
            "CPU times: user 850 µs, sys: 0 ns, total: 850 µs\n",
            "Wall time: 812 µs\n"
          ]
        },
        {
          "output_type": "execute_result",
          "data": {
            "text/plain": [
              "tensor(30)"
            ]
          },
          "metadata": {},
          "execution_count": 51
        }
      ]
    },
    {
      "cell_type": "markdown",
      "source": [
        "####Matrix Multiplication"
      ],
      "metadata": {
        "id": "UHH58ex7eGHj"
      }
    },
    {
      "cell_type": "code",
      "source": [
        "#Matrix Multiplication\n",
        "\n",
        "tensor_A= torch.tensor([[1,2],\n",
        "                        [3,4],\n",
        "                        [5,6]])\n",
        "tensor_B = torch.tensor([[7,10],\n",
        "                        [8,11],\n",
        "                        [9,12]])\n",
        "\n",
        "print(f\"Tensor A's shape: {tensor_A.shape}\")\n",
        "print(f\"Tensor B's shape: {tensor_B.shape}\")\n",
        "\n",
        "#`torch.matmul(tensor_A,tensor_B)` will return error because inner dimensions aren't same so Matrix Multiplication not possible"
      ],
      "metadata": {
        "id": "cx6YsGsu1xXn",
        "colab": {
          "base_uri": "https://localhost:8080/"
        },
        "outputId": "b932ba88-21f1-4a85-b6fb-cd7dd6e71c9f"
      },
      "execution_count": null,
      "outputs": [
        {
          "output_type": "stream",
          "name": "stdout",
          "text": [
            "Tensor A's shape: torch.Size([3, 2])\n",
            "Tensor B's shape: torch.Size([3, 2])\n"
          ]
        }
      ]
    },
    {
      "cell_type": "code",
      "source": [
        "tensor_C = torch.tensor([[7,8,9],[10,11,12]])\n",
        "print(f\"Tensor C's shape: {tensor_C.shape}\")\n",
        "torch.matmul(tensor_A,tensor_C)"
      ],
      "metadata": {
        "colab": {
          "base_uri": "https://localhost:8080/"
        },
        "id": "Wi4IBvJ-Bsa8",
        "outputId": "9d1b8fa8-e5b4-4007-fa45-252c39d8f4b5"
      },
      "execution_count": null,
      "outputs": [
        {
          "output_type": "stream",
          "name": "stdout",
          "text": [
            "Tensor C's shape: torch.Size([2, 3])\n"
          ]
        },
        {
          "output_type": "execute_result",
          "data": {
            "text/plain": [
              "tensor([[ 27,  30,  33],\n",
              "        [ 61,  68,  75],\n",
              "        [ 95, 106, 117]])"
            ]
          },
          "metadata": {},
          "execution_count": 60
        }
      ]
    },
    {
      "cell_type": "markdown",
      "source": [
        "<p>If we have to multiply tensors A and B we need to resolve shape error. How do we do it?"
      ],
      "metadata": {
        "id": "SxcbAlYfEXyq"
      }
    },
    {
      "cell_type": "markdown",
      "source": [
        "####Transpose"
      ],
      "metadata": {
        "id": "SML3kDccD5Y9"
      }
    },
    {
      "cell_type": "code",
      "source": [
        "#Transpose switches the dimensions or axes of the given tensor.\n",
        "tensor_B.T"
      ],
      "metadata": {
        "colab": {
          "base_uri": "https://localhost:8080/"
        },
        "id": "Py2qTeIiEs2u",
        "outputId": "7ba4b859-5fb8-4fd5-cab3-a224c56122e8"
      },
      "execution_count": null,
      "outputs": [
        {
          "output_type": "execute_result",
          "data": {
            "text/plain": [
              "tensor([[ 7,  8,  9],\n",
              "        [10, 11, 12]])"
            ]
          },
          "metadata": {},
          "execution_count": 61
        }
      ]
    },
    {
      "cell_type": "code",
      "source": [
        "tensor_B.T.shape"
      ],
      "metadata": {
        "colab": {
          "base_uri": "https://localhost:8080/"
        },
        "id": "68nTthGdFD6Y",
        "outputId": "e48d813d-dea2-4e4b-ead5-b71e755e64cb"
      },
      "execution_count": null,
      "outputs": [
        {
          "output_type": "execute_result",
          "data": {
            "text/plain": [
              "torch.Size([2, 3])"
            ]
          },
          "metadata": {},
          "execution_count": 62
        }
      ]
    },
    {
      "cell_type": "code",
      "source": [
        "#Notice that the dimensions are flipped. Now we can matrix multiply.\n",
        "new_tensor_B = tensor_B.T\n",
        "torch.matmul(tensor_A,new_tensor_B)"
      ],
      "metadata": {
        "colab": {
          "base_uri": "https://localhost:8080/"
        },
        "id": "UQ2VPVClFOnx",
        "outputId": "8c6daa1a-1e4f-4a59-db51-9a1fa6c86ffa"
      },
      "execution_count": null,
      "outputs": [
        {
          "output_type": "execute_result",
          "data": {
            "text/plain": [
              "tensor([[ 27,  30,  33],\n",
              "        [ 61,  68,  75],\n",
              "        [ 95, 106, 117]])"
            ]
          },
          "metadata": {},
          "execution_count": 67
        }
      ]
    },
    {
      "cell_type": "markdown",
      "source": [
        "###Tensor Aggregation"
      ],
      "metadata": {
        "id": "FpV_5U7UFUPW"
      }
    },
    {
      "cell_type": "markdown",
      "source": [
        "####Finding the min, max, mean, sum etc."
      ],
      "metadata": {
        "id": "CDXSRpv0IdC5"
      }
    },
    {
      "cell_type": "code",
      "source": [
        "y= torch.arange(start=0,end=100,step=5)\n",
        "y"
      ],
      "metadata": {
        "colab": {
          "base_uri": "https://localhost:8080/"
        },
        "id": "7tbyhfEkIpip",
        "outputId": "c79f3bac-d704-420c-9295-900cc17c8a87"
      },
      "execution_count": null,
      "outputs": [
        {
          "output_type": "execute_result",
          "data": {
            "text/plain": [
              "tensor([ 0,  5, 10, 15, 20, 25, 30, 35, 40, 45, 50, 55, 60, 65, 70, 75, 80, 85,\n",
              "        90, 95])"
            ]
          },
          "metadata": {},
          "execution_count": 109
        }
      ]
    },
    {
      "cell_type": "code",
      "source": [
        "torch.min(y)"
      ],
      "metadata": {
        "colab": {
          "base_uri": "https://localhost:8080/"
        },
        "id": "h1YZqZl9I3EX",
        "outputId": "d80fcef2-fca5-4aaf-e1fe-0529ee6a5fe4"
      },
      "execution_count": null,
      "outputs": [
        {
          "output_type": "execute_result",
          "data": {
            "text/plain": [
              "tensor(0)"
            ]
          },
          "metadata": {},
          "execution_count": 110
        }
      ]
    },
    {
      "cell_type": "code",
      "source": [
        "torch.max(y)"
      ],
      "metadata": {
        "colab": {
          "base_uri": "https://localhost:8080/"
        },
        "id": "dUigQLXVJFBs",
        "outputId": "c3d79828-0cd6-49a2-e6af-33ab226aaebf"
      },
      "execution_count": null,
      "outputs": [
        {
          "output_type": "execute_result",
          "data": {
            "text/plain": [
              "tensor(95)"
            ]
          },
          "metadata": {},
          "execution_count": 111
        }
      ]
    },
    {
      "cell_type": "code",
      "source": [
        "y=y.type(torch.float32)\n",
        "y.dtype"
      ],
      "metadata": {
        "colab": {
          "base_uri": "https://localhost:8080/"
        },
        "id": "hnd08GFiJHWm",
        "outputId": "74e52677-63c7-43b4-df37-0ea140a9b179"
      },
      "execution_count": null,
      "outputs": [
        {
          "output_type": "execute_result",
          "data": {
            "text/plain": [
              "torch.float32"
            ]
          },
          "metadata": {},
          "execution_count": 113
        }
      ]
    },
    {
      "cell_type": "code",
      "source": [
        "print(y.mean())\n",
        "torch.mean(y)"
      ],
      "metadata": {
        "colab": {
          "base_uri": "https://localhost:8080/"
        },
        "outputId": "63bc0017-f3a1-46a3-8624-fb3269837376",
        "id": "yj2E4r5XKC0L"
      },
      "execution_count": null,
      "outputs": [
        {
          "output_type": "stream",
          "name": "stdout",
          "text": [
            "tensor(47.5000)\n"
          ]
        },
        {
          "output_type": "execute_result",
          "data": {
            "text/plain": [
              "tensor(47.5000)"
            ]
          },
          "metadata": {},
          "execution_count": 115
        }
      ]
    },
    {
      "cell_type": "code",
      "source": [
        "torch.sum(y)"
      ],
      "metadata": {
        "colab": {
          "base_uri": "https://localhost:8080/"
        },
        "id": "pR_FcmlTJN_z",
        "outputId": "b21d05f0-e7b8-4c2e-baba-d2cb8ccc7a02"
      },
      "execution_count": null,
      "outputs": [
        {
          "output_type": "execute_result",
          "data": {
            "text/plain": [
              "tensor(950.)"
            ]
          },
          "metadata": {},
          "execution_count": 117
        }
      ]
    },
    {
      "cell_type": "markdown",
      "source": [
        "####Finding Positional Min and Max (returns where the element is located)"
      ],
      "metadata": {
        "id": "guH9xzr4Pkvh"
      }
    },
    {
      "cell_type": "code",
      "source": [
        "random_tensor = torch.rand(3,10)\n",
        "random_tensor"
      ],
      "metadata": {
        "colab": {
          "base_uri": "https://localhost:8080/"
        },
        "id": "MFbSe5CKJgxM",
        "outputId": "bcca9ae1-c713-4276-f4df-384bbd04b07b"
      },
      "execution_count": null,
      "outputs": [
        {
          "output_type": "execute_result",
          "data": {
            "text/plain": [
              "tensor([[0.2830, 0.8929, 0.5384, 0.0219, 0.0473, 0.8484, 0.8749, 0.1102, 0.4257,\n",
              "         0.3868],\n",
              "        [0.1889, 0.4410, 0.0286, 0.5514, 0.8156, 0.5011, 0.7597, 0.6858, 0.3605,\n",
              "         0.3658],\n",
              "        [0.9362, 0.0408, 0.6278, 0.1817, 0.7110, 0.2446, 0.1089, 0.3925, 0.9651,\n",
              "         0.8191]])"
            ]
          },
          "metadata": {},
          "execution_count": 137
        }
      ]
    },
    {
      "cell_type": "code",
      "source": [
        "random_tensor = (random_tensor*100).type(torch.int32)\n",
        "random_tensor"
      ],
      "metadata": {
        "colab": {
          "base_uri": "https://localhost:8080/"
        },
        "id": "GByy4drzNCDc",
        "outputId": "2402ac17-3e9b-4d21-ff99-6437d7471949"
      },
      "execution_count": null,
      "outputs": [
        {
          "output_type": "execute_result",
          "data": {
            "text/plain": [
              "tensor([[67, 38, 24, 82, 87, 63, 38,  4, 84, 79],\n",
              "        [91, 13, 19, 64, 13, 81, 83, 89,  4, 17],\n",
              "        [88, 87, 74, 32, 97, 74, 99, 44, 17, 88]], dtype=torch.int32)"
            ]
          },
          "metadata": {},
          "execution_count": 134
        }
      ]
    },
    {
      "cell_type": "code",
      "source": [
        "torch.argmax(random_tensor)"
      ],
      "metadata": {
        "colab": {
          "base_uri": "https://localhost:8080/"
        },
        "id": "6qCYEJqgNWGE",
        "outputId": "42fa1157-1d8f-44dc-ece4-37fb71d582d9"
      },
      "execution_count": null,
      "outputs": [
        {
          "output_type": "execute_result",
          "data": {
            "text/plain": [
              "tensor(26)"
            ]
          },
          "metadata": {},
          "execution_count": 135
        }
      ]
    },
    {
      "cell_type": "code",
      "source": [
        "torch.argmin(random_tensor)"
      ],
      "metadata": {
        "colab": {
          "base_uri": "https://localhost:8080/"
        },
        "id": "DKjXAHZMN9Hg",
        "outputId": "75b663e8-e52b-4406-d029-b021d4ac37e3"
      },
      "execution_count": null,
      "outputs": [
        {
          "output_type": "execute_result",
          "data": {
            "text/plain": [
              "tensor(7)"
            ]
          },
          "metadata": {},
          "execution_count": 136
        }
      ]
    },
    {
      "cell_type": "markdown",
      "source": [
        "###Reshaping, stacking , squeezing and unsqueezing tensors + Permute\n",
        "\n",
        "* Reshaping- reshapes input tensor to a defined shape\n",
        "\n",
        "* View - Returns view of some input tensor of a certain shape but keeps same memory as original tensor\n",
        "\n",
        "* Stacking - combining multiple tensors on top of each other or side by side.\n",
        "* Squeeze- removes all `1` dimension from a tensor\n",
        "* Unsqueeze- adds a `1` dimsion to a tensor\n",
        "* Permute- Return a view of the input with dimensions permuted (swapped) in some given way."
      ],
      "metadata": {
        "id": "HRfnpiuXU3MH"
      }
    },
    {
      "cell_type": "code",
      "source": [
        "import torch\n",
        "x = torch.arange(1,10,1)\n",
        "x,x.shape\n"
      ],
      "metadata": {
        "id": "d5gfDntjVuil",
        "colab": {
          "base_uri": "https://localhost:8080/"
        },
        "outputId": "2a4ca9e9-f313-48d6-e6d8-074b9e15ff92"
      },
      "execution_count": null,
      "outputs": [
        {
          "output_type": "execute_result",
          "data": {
            "text/plain": [
              "(tensor([1, 2, 3, 4, 5, 6, 7, 8, 9]), torch.Size([9]))"
            ]
          },
          "metadata": {},
          "execution_count": 26
        }
      ]
    },
    {
      "cell_type": "code",
      "source": [
        "#Reshape by adding an extra dimension. The dimensions have to be compatible.\n",
        "x_reshaped = x.reshape(1,7)\n",
        "x,x_reshaped #Error because we have 9 (1*9) elements to fill 7 (1*7) places"
      ],
      "metadata": {
        "colab": {
          "base_uri": "https://localhost:8080/",
          "height": 176
        },
        "id": "fY4KZ-H50t10",
        "outputId": "6f47fb27-52c4-4c8e-b097-42e10f78d5b4"
      },
      "execution_count": null,
      "outputs": [
        {
          "output_type": "error",
          "ename": "RuntimeError",
          "evalue": "shape '[1, 7]' is invalid for input of size 9",
          "traceback": [
            "\u001b[0;31m---------------------------------------------------------------------------\u001b[0m",
            "\u001b[0;31mRuntimeError\u001b[0m                              Traceback (most recent call last)",
            "\u001b[0;32m<ipython-input-12-f907d03a0bd8>\u001b[0m in \u001b[0;36m<cell line: 2>\u001b[0;34m()\u001b[0m\n\u001b[1;32m      1\u001b[0m \u001b[0;31m#Reshape by adding an extra dimension. The dimensions have to be compatible.\u001b[0m\u001b[0;34m\u001b[0m\u001b[0;34m\u001b[0m\u001b[0m\n\u001b[0;32m----> 2\u001b[0;31m \u001b[0mx_reshaped\u001b[0m \u001b[0;34m=\u001b[0m \u001b[0mx\u001b[0m\u001b[0;34m.\u001b[0m\u001b[0mreshape\u001b[0m\u001b[0;34m(\u001b[0m\u001b[0;36m1\u001b[0m\u001b[0;34m,\u001b[0m\u001b[0;36m7\u001b[0m\u001b[0;34m)\u001b[0m\u001b[0;34m\u001b[0m\u001b[0;34m\u001b[0m\u001b[0m\n\u001b[0m\u001b[1;32m      3\u001b[0m \u001b[0mx\u001b[0m\u001b[0;34m,\u001b[0m\u001b[0mx_reshaped\u001b[0m \u001b[0;31m#Error because we have 9 (1*9) elements to fill 7 (1*7) places\u001b[0m\u001b[0;34m\u001b[0m\u001b[0;34m\u001b[0m\u001b[0m\n",
            "\u001b[0;31mRuntimeError\u001b[0m: shape '[1, 7]' is invalid for input of size 9"
          ]
        }
      ]
    },
    {
      "cell_type": "code",
      "source": [
        "x_reshaped = x.reshape(1,9)\n",
        "x,x_reshaped"
      ],
      "metadata": {
        "colab": {
          "base_uri": "https://localhost:8080/"
        },
        "id": "4NkU5LmZ1Qmd",
        "outputId": "d529e839-a55e-4f06-b2b2-d8b0fdf2dc98"
      },
      "execution_count": null,
      "outputs": [
        {
          "output_type": "execute_result",
          "data": {
            "text/plain": [
              "(tensor([1, 2, 3, 4, 5, 6, 7, 8, 9]), tensor([[1, 2, 3, 4, 5, 6, 7, 8, 9]]))"
            ]
          },
          "metadata": {},
          "execution_count": 27
        }
      ]
    },
    {
      "cell_type": "code",
      "source": [
        "x_reshaped = x.reshape(9,1)\n",
        "x, x_reshaped"
      ],
      "metadata": {
        "colab": {
          "base_uri": "https://localhost:8080/"
        },
        "id": "hRq27yf-1az2",
        "outputId": "bfc0e5a5-3db4-40eb-97e1-4f7ddb21ce10"
      },
      "execution_count": null,
      "outputs": [
        {
          "output_type": "execute_result",
          "data": {
            "text/plain": [
              "(tensor([1, 2, 3, 4, 5, 6, 7, 8, 9]),\n",
              " tensor([[1],\n",
              "         [2],\n",
              "         [3],\n",
              "         [4],\n",
              "         [5],\n",
              "         [6],\n",
              "         [7],\n",
              "         [8],\n",
              "         [9]]))"
            ]
          },
          "metadata": {},
          "execution_count": 28
        }
      ]
    },
    {
      "cell_type": "code",
      "source": [
        "x_reshaped = x.reshape(1,9,1)\n",
        "x,x_reshaped"
      ],
      "metadata": {
        "colab": {
          "base_uri": "https://localhost:8080/"
        },
        "id": "IwhflBbk1j8d",
        "outputId": "c52089ce-3926-45c3-9ab8-813ef3822f34"
      },
      "execution_count": null,
      "outputs": [
        {
          "output_type": "execute_result",
          "data": {
            "text/plain": [
              "(tensor([1, 2, 3, 4, 5, 6, 7, 8, 9]),\n",
              " tensor([[[1],\n",
              "          [2],\n",
              "          [3],\n",
              "          [4],\n",
              "          [5],\n",
              "          [6],\n",
              "          [7],\n",
              "          [8],\n",
              "          [9]]]))"
            ]
          },
          "metadata": {},
          "execution_count": 29
        }
      ]
    },
    {
      "cell_type": "code",
      "source": [
        "#Change view\n",
        "z = x.view(1,9)\n",
        "z, z.shape #similar to reshape"
      ],
      "metadata": {
        "colab": {
          "base_uri": "https://localhost:8080/"
        },
        "id": "VGyTOx731tIw",
        "outputId": "8b349904-ac1a-4d68-c58d-0b9964438fe0"
      },
      "execution_count": null,
      "outputs": [
        {
          "output_type": "execute_result",
          "data": {
            "text/plain": [
              "(tensor([[1, 2, 3, 4, 5, 6, 7, 8, 9]]), torch.Size([1, 9]))"
            ]
          },
          "metadata": {},
          "execution_count": 30
        }
      ]
    },
    {
      "cell_type": "code",
      "source": [
        "#Changing z(view) changes x (because view of tensor shares same memory)\n",
        "z[:,0] = 101 #Slicing tensor into sub arrays[dim1,dim2 ...] dimensions can be specified as start:end+1\n",
        "z,x"
      ],
      "metadata": {
        "colab": {
          "base_uri": "https://localhost:8080/"
        },
        "id": "q3NlvkSw2fw3",
        "outputId": "4e404825-b488-40de-cf6c-8688a1c5fef6"
      },
      "execution_count": null,
      "outputs": [
        {
          "output_type": "execute_result",
          "data": {
            "text/plain": [
              "(tensor([[101,   2,   3,   4,   5,   6,   7,   8,   9]]),\n",
              " tensor([101,   2,   3,   4,   5,   6,   7,   8,   9]))"
            ]
          },
          "metadata": {},
          "execution_count": 31
        }
      ]
    },
    {
      "cell_type": "code",
      "source": [
        "#Stacking Tensors on top of each other\n",
        "x_stacked = torch.stack([x,x,x],dim = 0)\n",
        "x,x_stacked"
      ],
      "metadata": {
        "colab": {
          "base_uri": "https://localhost:8080/"
        },
        "id": "pVjt3xX83BvM",
        "outputId": "ae6379bd-2eff-4055-f8c6-c4d0cfee6f57"
      },
      "execution_count": null,
      "outputs": [
        {
          "output_type": "execute_result",
          "data": {
            "text/plain": [
              "tensor([[101,   2,   3,   4,   5,   6,   7,   8,   9],\n",
              "        [101,   2,   3,   4,   5,   6,   7,   8,   9],\n",
              "        [101,   2,   3,   4,   5,   6,   7,   8,   9]])"
            ]
          },
          "metadata": {},
          "execution_count": 38
        }
      ]
    },
    {
      "cell_type": "code",
      "source": [
        "x_stacked = torch.stack([x,x,x],dim = 1)\n",
        "x,x_stacked"
      ],
      "metadata": {
        "colab": {
          "base_uri": "https://localhost:8080/"
        },
        "id": "IR4YJvpaIDEn",
        "outputId": "a40eaab2-4b75-4104-8753-79e634a99258"
      },
      "execution_count": null,
      "outputs": [
        {
          "output_type": "execute_result",
          "data": {
            "text/plain": [
              "(tensor([101,   2,   3,   4,   5,   6,   7,   8,   9]),\n",
              " tensor([[101, 101, 101],\n",
              "         [  2,   2,   2],\n",
              "         [  3,   3,   3],\n",
              "         [  4,   4,   4],\n",
              "         [  5,   5,   5],\n",
              "         [  6,   6,   6],\n",
              "         [  7,   7,   7],\n",
              "         [  8,   8,   8],\n",
              "         [  9,   9,   9]]))"
            ]
          },
          "metadata": {},
          "execution_count": 40
        }
      ]
    },
    {
      "cell_type": "markdown",
      "source": [
        "<p>Notice how setting `dim = 0` is for vstack ie, stacking row by row and setting `dim = 1` is for hstack ie, columnwise stacking."
      ],
      "metadata": {
        "id": "SeSMU_dWJlN2"
      }
    },
    {
      "cell_type": "code",
      "source": [
        "#Squeezing\n",
        "x_squeezed = torch.squeeze(x_reshaped, dim=(0,2))\n",
        "x_reshaped,x_squeezed"
      ],
      "metadata": {
        "colab": {
          "base_uri": "https://localhost:8080/"
        },
        "id": "HN-OOMLeKgjH",
        "outputId": "8b9058bb-aee3-4756-8c17-0ea0e0c6a814"
      },
      "execution_count": null,
      "outputs": [
        {
          "output_type": "execute_result",
          "data": {
            "text/plain": [
              "(tensor([[[101],\n",
              "          [  2],\n",
              "          [  3],\n",
              "          [  4],\n",
              "          [  5],\n",
              "          [  6],\n",
              "          [  7],\n",
              "          [  8],\n",
              "          [  9]]]),\n",
              " tensor([101,   2,   3,   4,   5,   6,   7,   8,   9]))"
            ]
          },
          "metadata": {},
          "execution_count": 52
        }
      ]
    },
    {
      "cell_type": "code",
      "source": [
        "x_reshaped.shape,x_squeezed.shape"
      ],
      "metadata": {
        "colab": {
          "base_uri": "https://localhost:8080/"
        },
        "id": "-j-j32egMiaN",
        "outputId": "4f4cb550-dd62-43b2-a1b0-8d7d9777e669"
      },
      "execution_count": null,
      "outputs": [
        {
          "output_type": "execute_result",
          "data": {
            "text/plain": [
              "(torch.Size([1, 9, 1]), torch.Size([9]))"
            ]
          },
          "metadata": {},
          "execution_count": 53
        }
      ]
    },
    {
      "cell_type": "code",
      "source": [
        "#Unsqueezing\n",
        "x_unsqueezed= torch.unsqueeze(x_squeezed,dim=0)\n",
        "x_unsqueezed"
      ],
      "metadata": {
        "colab": {
          "base_uri": "https://localhost:8080/"
        },
        "id": "y11rcTL-Mva0",
        "outputId": "93d51287-1c81-44d6-b61c-1af00c3a6a9d"
      },
      "execution_count": null,
      "outputs": [
        {
          "output_type": "execute_result",
          "data": {
            "text/plain": [
              "tensor([[101,   2,   3,   4,   5,   6,   7,   8,   9]])"
            ]
          },
          "metadata": {},
          "execution_count": 58
        }
      ]
    },
    {
      "cell_type": "code",
      "source": [
        "x_unsqueezed.shape"
      ],
      "metadata": {
        "colab": {
          "base_uri": "https://localhost:8080/"
        },
        "id": "sVytXY7WNTYG",
        "outputId": "5b1ee14c-103f-4737-9c11-be0997be2a54"
      },
      "execution_count": null,
      "outputs": [
        {
          "output_type": "execute_result",
          "data": {
            "text/plain": [
              "torch.Size([1, 9])"
            ]
          },
          "metadata": {},
          "execution_count": 56
        }
      ]
    },
    {
      "cell_type": "code",
      "source": [
        "#torch.permute - to rearrange dimensions in a specific order. Commonly used for image processing\n",
        "\n",
        "a_original = torch.rand(224,224,3) #[height, width, color_channels]\n",
        "\n",
        "#Suppose we need it in the order [color_channels, height, width]\n",
        "\n",
        "a_permuted = a_original.permute(2,0,1) #shifts axis or dim\n",
        "\n",
        "a_original.shape,a_permuted.shape\n"
      ],
      "metadata": {
        "colab": {
          "base_uri": "https://localhost:8080/"
        },
        "id": "OwxupH5qN3yW",
        "outputId": "171f0f61-3d69-420b-b9fc-2b97acf07cb0"
      },
      "execution_count": null,
      "outputs": [
        {
          "output_type": "execute_result",
          "data": {
            "text/plain": [
              "(torch.Size([224, 224, 3]), torch.Size([3, 224, 224]))"
            ]
          },
          "metadata": {},
          "execution_count": 63
        }
      ]
    },
    {
      "cell_type": "markdown",
      "source": [
        "<p> Note: `torch.permute` returns a view so any changes to the new tensor will reflect on the old one as well"
      ],
      "metadata": {
        "id": "UOmoTLGTQdQa"
      }
    },
    {
      "cell_type": "code",
      "source": [
        "a_original[0,0,0]=69"
      ],
      "metadata": {
        "id": "lE13MUX_R44l"
      },
      "execution_count": null,
      "outputs": []
    },
    {
      "cell_type": "code",
      "source": [
        "a_permuted[0,0,0]"
      ],
      "metadata": {
        "colab": {
          "base_uri": "https://localhost:8080/"
        },
        "id": "iJOptArQSq43",
        "outputId": "fde09581-2f34-4e7d-e229-b67f5b3355a6"
      },
      "execution_count": null,
      "outputs": [
        {
          "output_type": "execute_result",
          "data": {
            "text/plain": [
              "tensor(69.)"
            ]
          },
          "metadata": {},
          "execution_count": 65
        }
      ]
    },
    {
      "cell_type": "markdown",
      "source": [
        "###Indexing (Selecting Data from Tensors)"
      ],
      "metadata": {
        "id": "guENezAWSuqH"
      }
    },
    {
      "cell_type": "code",
      "source": [
        "import torch\n",
        "x = torch.arange(1,10).reshape(1,3,3)"
      ],
      "metadata": {
        "id": "g2rGSvDUTHqy"
      },
      "execution_count": null,
      "outputs": []
    },
    {
      "cell_type": "code",
      "source": [
        "x, x.shape"
      ],
      "metadata": {
        "colab": {
          "base_uri": "https://localhost:8080/"
        },
        "id": "uZorppKXTV_y",
        "outputId": "7debfc4d-c0c9-4914-c181-aa175441b5f4"
      },
      "execution_count": null,
      "outputs": [
        {
          "output_type": "execute_result",
          "data": {
            "text/plain": [
              "(tensor([[[1, 2, 3],\n",
              "          [4, 5, 6],\n",
              "          [7, 8, 9]]]),\n",
              " torch.Size([1, 3, 3]))"
            ]
          },
          "metadata": {},
          "execution_count": 70
        }
      ]
    },
    {
      "cell_type": "code",
      "source": [
        "x[0]"
      ],
      "metadata": {
        "colab": {
          "base_uri": "https://localhost:8080/"
        },
        "id": "cI10MYp2TbjI",
        "outputId": "554e47b6-836f-4708-d311-b2e16f3db43a"
      },
      "execution_count": null,
      "outputs": [
        {
          "output_type": "execute_result",
          "data": {
            "text/plain": [
              "tensor([[1, 2, 3],\n",
              "        [4, 5, 6],\n",
              "        [7, 8, 9]])"
            ]
          },
          "metadata": {},
          "execution_count": 71
        }
      ]
    },
    {
      "cell_type": "code",
      "source": [
        "x[0,0]"
      ],
      "metadata": {
        "colab": {
          "base_uri": "https://localhost:8080/"
        },
        "id": "RsSSnSnyTt04",
        "outputId": "535cdcde-2bd9-4970-b0e5-756f77cf5e1f"
      },
      "execution_count": null,
      "outputs": [
        {
          "output_type": "execute_result",
          "data": {
            "text/plain": [
              "tensor([1, 2, 3])"
            ]
          },
          "metadata": {},
          "execution_count": 72
        }
      ]
    },
    {
      "cell_type": "code",
      "source": [
        "x[0,0,0]"
      ],
      "metadata": {
        "colab": {
          "base_uri": "https://localhost:8080/"
        },
        "id": "WUXMihYRTzdl",
        "outputId": "052935dc-fe02-46fd-d510-2951c69ef2c6"
      },
      "execution_count": null,
      "outputs": [
        {
          "output_type": "execute_result",
          "data": {
            "text/plain": [
              "tensor(1)"
            ]
          },
          "metadata": {},
          "execution_count": 73
        }
      ]
    },
    {
      "cell_type": "code",
      "source": [
        "x[0,0,:]"
      ],
      "metadata": {
        "colab": {
          "base_uri": "https://localhost:8080/"
        },
        "id": "OKqT2flpT4qh",
        "outputId": "52a64675-1453-4892-c062-bc96223aeca7"
      },
      "execution_count": null,
      "outputs": [
        {
          "output_type": "execute_result",
          "data": {
            "text/plain": [
              "tensor([1, 2, 3])"
            ]
          },
          "metadata": {},
          "execution_count": 74
        }
      ]
    },
    {
      "cell_type": "code",
      "source": [
        "x[0,:,1]"
      ],
      "metadata": {
        "colab": {
          "base_uri": "https://localhost:8080/"
        },
        "id": "5-dr2L-BT9mr",
        "outputId": "7d113b37-ad5a-4e23-e43f-adbcd8367bc1"
      },
      "execution_count": null,
      "outputs": [
        {
          "output_type": "execute_result",
          "data": {
            "text/plain": [
              "tensor([2, 5, 8])"
            ]
          },
          "metadata": {},
          "execution_count": 75
        }
      ]
    },
    {
      "cell_type": "code",
      "source": [
        "x[0,2,2]"
      ],
      "metadata": {
        "colab": {
          "base_uri": "https://localhost:8080/"
        },
        "id": "6sTwbkZqUDh_",
        "outputId": "af2508be-01d9-4b99-f580-7a9e720eb47a"
      },
      "execution_count": null,
      "outputs": [
        {
          "output_type": "execute_result",
          "data": {
            "text/plain": [
              "tensor(9)"
            ]
          },
          "metadata": {},
          "execution_count": 76
        }
      ]
    },
    {
      "cell_type": "code",
      "source": [
        "x[0,0,:]"
      ],
      "metadata": {
        "colab": {
          "base_uri": "https://localhost:8080/"
        },
        "id": "MdK4kKQ5Ua9e",
        "outputId": "258ac594-1fde-4c3b-ee6b-ba9ea7c6ecdd"
      },
      "execution_count": null,
      "outputs": [
        {
          "output_type": "execute_result",
          "data": {
            "text/plain": [
              "tensor([1, 2, 3])"
            ]
          },
          "metadata": {},
          "execution_count": 78
        }
      ]
    },
    {
      "cell_type": "code",
      "source": [
        "x[:,:,2]"
      ],
      "metadata": {
        "colab": {
          "base_uri": "https://localhost:8080/"
        },
        "id": "eRA_LknZUoF5",
        "outputId": "ff002611-d911-4a25-98f4-01e15b01a7d4"
      },
      "execution_count": null,
      "outputs": [
        {
          "output_type": "execute_result",
          "data": {
            "text/plain": [
              "tensor([[3, 6, 9]])"
            ]
          },
          "metadata": {},
          "execution_count": 79
        }
      ]
    },
    {
      "cell_type": "markdown",
      "source": [
        "##PyTorch and NumPy\n",
        "\n",
        "* Data in Numpy, want in PyTorch tensor -> `torch.from_numpy(ndarray)`\n",
        "\n",
        "* Data in PyTorch tensor to NumPy -> `Tensor.numpy()`"
      ],
      "metadata": {
        "id": "8EGq5J1qVQco"
      }
    },
    {
      "cell_type": "code",
      "source": [
        "import torch\n",
        "import numpy as np\n",
        "\n",
        "array = np.arange(1.0,20.0,2.0)\n",
        "tensor = torch.from_numpy(array)\n",
        "array, tensor, tensor.shape"
      ],
      "metadata": {
        "colab": {
          "base_uri": "https://localhost:8080/"
        },
        "id": "tnvbHoagWsHS",
        "outputId": "40ac7dfb-4fac-42d3-86c0-c562303634ab"
      },
      "execution_count": null,
      "outputs": [
        {
          "output_type": "execute_result",
          "data": {
            "text/plain": [
              "(array([ 1.,  3.,  5.,  7.,  9., 11., 13., 15., 17., 19.]),\n",
              " tensor([ 1.,  3.,  5.,  7.,  9., 11., 13., 15., 17., 19.], dtype=torch.float64),\n",
              " torch.Size([10]))"
            ]
          },
          "metadata": {},
          "execution_count": 82
        }
      ]
    },
    {
      "cell_type": "code",
      "source": [
        "tensor = torch.ones(7)\n",
        "numpy_array = tensor.numpy()\n",
        "numpy_array"
      ],
      "metadata": {
        "colab": {
          "base_uri": "https://localhost:8080/"
        },
        "id": "UKbEd6VlW8zk",
        "outputId": "0c347903-de0d-4b98-e8ed-51f1a6e1a8bf"
      },
      "execution_count": null,
      "outputs": [
        {
          "output_type": "execute_result",
          "data": {
            "text/plain": [
              "array([1., 1., 1., 1., 1., 1., 1.], dtype=float32)"
            ]
          },
          "metadata": {},
          "execution_count": 86
        }
      ]
    },
    {
      "cell_type": "code",
      "source": [
        "tensor = torch.ones(8)\n",
        "tensor1 = torch.zeros(8)\n",
        "tensor_stacked= torch.stack([tensor,tensor1], dim=1)\n",
        "tensor_stacked"
      ],
      "metadata": {
        "colab": {
          "base_uri": "https://localhost:8080/"
        },
        "id": "rzJjk3zkW7-h",
        "outputId": "e751894c-bcfe-4f3f-cd61-cdf806ac3a53"
      },
      "execution_count": null,
      "outputs": [
        {
          "output_type": "execute_result",
          "data": {
            "text/plain": [
              "tensor([[1., 0.],\n",
              "        [1., 0.],\n",
              "        [1., 0.],\n",
              "        [1., 0.],\n",
              "        [1., 0.],\n",
              "        [1., 0.],\n",
              "        [1., 0.],\n",
              "        [1., 0.]])"
            ]
          },
          "metadata": {},
          "execution_count": 90
        }
      ]
    },
    {
      "cell_type": "code",
      "source": [
        "numpy_array = tensor_stacked.numpy()\n",
        "numpy_array"
      ],
      "metadata": {
        "colab": {
          "base_uri": "https://localhost:8080/"
        },
        "id": "mpkzm_K9Y98Z",
        "outputId": "ce1a0d06-b3f9-43d0-e100-c338266b543c"
      },
      "execution_count": null,
      "outputs": [
        {
          "output_type": "execute_result",
          "data": {
            "text/plain": [
              "array([[1., 0.],\n",
              "       [1., 0.],\n",
              "       [1., 0.],\n",
              "       [1., 0.],\n",
              "       [1., 0.],\n",
              "       [1., 0.],\n",
              "       [1., 0.],\n",
              "       [1., 0.]], dtype=float32)"
            ]
          },
          "metadata": {},
          "execution_count": 92
        }
      ]
    },
    {
      "cell_type": "markdown",
      "source": [
        "##Using GPUs\n",
        "\n",
        "GPUs are faster for numerical computations than CPU because CUDA+ NVIDIA Hardware + PyTorch\n",
        "\n",
        "1. Check in bash what GPU is being used\n",
        "2. Check for GPU access with PyTorch code and set up to use"
      ],
      "metadata": {
        "id": "1ZVMQcR6dKFg"
      }
    },
    {
      "cell_type": "code",
      "source": [
        "!nvidia-smi"
      ],
      "metadata": {
        "colab": {
          "base_uri": "https://localhost:8080/"
        },
        "id": "1fkcd5npdO2C",
        "outputId": "d9bbf6eb-4c14-4aa6-8a7e-9af1dd33de86"
      },
      "execution_count": null,
      "outputs": [
        {
          "output_type": "stream",
          "name": "stdout",
          "text": [
            "Mon May  6 19:57:37 2024       \n",
            "+---------------------------------------------------------------------------------------+\n",
            "| NVIDIA-SMI 535.104.05             Driver Version: 535.104.05   CUDA Version: 12.2     |\n",
            "|-----------------------------------------+----------------------+----------------------+\n",
            "| GPU  Name                 Persistence-M | Bus-Id        Disp.A | Volatile Uncorr. ECC |\n",
            "| Fan  Temp   Perf          Pwr:Usage/Cap |         Memory-Usage | GPU-Util  Compute M. |\n",
            "|                                         |                      |               MIG M. |\n",
            "|=========================================+======================+======================|\n",
            "|   0  Tesla T4                       Off | 00000000:00:04.0 Off |                    0 |\n",
            "| N/A   35C    P8               9W /  70W |      0MiB / 15360MiB |      0%      Default |\n",
            "|                                         |                      |                  N/A |\n",
            "+-----------------------------------------+----------------------+----------------------+\n",
            "                                                                                         \n",
            "+---------------------------------------------------------------------------------------+\n",
            "| Processes:                                                                            |\n",
            "|  GPU   GI   CI        PID   Type   Process name                            GPU Memory |\n",
            "|        ID   ID                                                             Usage      |\n",
            "|=======================================================================================|\n",
            "|  No running processes found                                                           |\n",
            "+---------------------------------------------------------------------------------------+\n"
          ]
        }
      ]
    },
    {
      "cell_type": "code",
      "source": [
        "#using PyTorch\n",
        "\n",
        "import torch\n",
        "\n",
        "torch.cuda.is_available() # Returns true if we're using GPU supporting CUDA"
      ],
      "metadata": {
        "colab": {
          "base_uri": "https://localhost:8080/"
        },
        "id": "Kayv6DPOe66x",
        "outputId": "1cd5e2dc-508a-42b7-a470-6983ab43e8d4"
      },
      "execution_count": null,
      "outputs": [
        {
          "output_type": "execute_result",
          "data": {
            "text/plain": [
              "True"
            ]
          },
          "metadata": {},
          "execution_count": 3
        }
      ]
    },
    {
      "cell_type": "code",
      "source": [
        "#Setup device agnostic code\n",
        "device = \"cuda\" if torch.cuda.is_available() else \"cpu\""
      ],
      "metadata": {
        "id": "GNwC4JNHfPrM"
      },
      "execution_count": null,
      "outputs": []
    },
    {
      "cell_type": "code",
      "source": [
        "#Count number of devices\n",
        "torch.cuda.device_count()"
      ],
      "metadata": {
        "colab": {
          "base_uri": "https://localhost:8080/"
        },
        "id": "XBU2_CRifnEC",
        "outputId": "a0a5a546-3a66-47d3-a344-93b404085224"
      },
      "execution_count": null,
      "outputs": [
        {
          "output_type": "execute_result",
          "data": {
            "text/plain": [
              "1"
            ]
          },
          "metadata": {},
          "execution_count": 6
        }
      ]
    },
    {
      "cell_type": "code",
      "source": [
        "#Moving Tensor to GPU\n",
        "\n",
        "x = torch.tensor([1,2,3])\n",
        "x.device\n"
      ],
      "metadata": {
        "colab": {
          "base_uri": "https://localhost:8080/"
        },
        "id": "mGS63WZvfrql",
        "outputId": "2f944181-ccd8-4742-bf7a-57780587c845"
      },
      "execution_count": null,
      "outputs": [
        {
          "output_type": "execute_result",
          "data": {
            "text/plain": [
              "device(type='cpu')"
            ]
          },
          "metadata": {},
          "execution_count": 8
        }
      ]
    },
    {
      "cell_type": "code",
      "source": [
        "x_on_gpu = x.to(device)\n",
        "x_on_gpu"
      ],
      "metadata": {
        "colab": {
          "base_uri": "https://localhost:8080/"
        },
        "id": "bgY46gW-iMVB",
        "outputId": "d436b095-e4f5-429e-d1a0-f0444cc6995d"
      },
      "execution_count": null,
      "outputs": [
        {
          "output_type": "execute_result",
          "data": {
            "text/plain": [
              "tensor([1, 2, 3], device='cuda:0')"
            ]
          },
          "metadata": {},
          "execution_count": 10
        }
      ]
    },
    {
      "cell_type": "markdown",
      "source": [
        "<p>Numpy only works on CPU. How might we move back tensor to GPU?"
      ],
      "metadata": {
        "id": "NaNoyG8UipXY"
      }
    },
    {
      "cell_type": "code",
      "source": [
        "x_on_gpu.numpy()"
      ],
      "metadata": {
        "colab": {
          "base_uri": "https://localhost:8080/",
          "height": 141
        },
        "id": "2iuZX7bxjGIv",
        "outputId": "05cb7b4a-0a0b-4331-c518-eb430f6f0163"
      },
      "execution_count": null,
      "outputs": [
        {
          "output_type": "error",
          "ename": "TypeError",
          "evalue": "can't convert cuda:0 device type tensor to numpy. Use Tensor.cpu() to copy the tensor to host memory first.",
          "traceback": [
            "\u001b[0;31m---------------------------------------------------------------------------\u001b[0m",
            "\u001b[0;31mTypeError\u001b[0m                                 Traceback (most recent call last)",
            "\u001b[0;32m<ipython-input-11-46875906a50f>\u001b[0m in \u001b[0;36m<cell line: 1>\u001b[0;34m()\u001b[0m\n\u001b[0;32m----> 1\u001b[0;31m \u001b[0mx_on_gpu\u001b[0m\u001b[0;34m.\u001b[0m\u001b[0mnumpy\u001b[0m\u001b[0;34m(\u001b[0m\u001b[0;34m)\u001b[0m\u001b[0;34m\u001b[0m\u001b[0;34m\u001b[0m\u001b[0m\n\u001b[0m",
            "\u001b[0;31mTypeError\u001b[0m: can't convert cuda:0 device type tensor to numpy. Use Tensor.cpu() to copy the tensor to host memory first."
          ]
        }
      ]
    },
    {
      "cell_type": "code",
      "source": [
        "x_back_on_cpu = x_on_gpu.cpu()"
      ],
      "metadata": {
        "id": "WYq5VVwMjRHs"
      },
      "execution_count": null,
      "outputs": []
    },
    {
      "cell_type": "code",
      "source": [
        "x_back_on_cpu.device\n",
        "\n"
      ],
      "metadata": {
        "colab": {
          "base_uri": "https://localhost:8080/"
        },
        "id": "m7TONiH8jXZ0",
        "outputId": "cc877530-fa70-4bf3-b4da-b18956492b71"
      },
      "execution_count": null,
      "outputs": [
        {
          "output_type": "execute_result",
          "data": {
            "text/plain": [
              "device(type='cpu')"
            ]
          },
          "metadata": {},
          "execution_count": 18
        }
      ]
    },
    {
      "cell_type": "code",
      "source": [
        "x_on_gpu.numpy()"
      ],
      "metadata": {
        "colab": {
          "base_uri": "https://localhost:8080/",
          "height": 141
        },
        "outputId": "24f0cedb-e651-4e8d-f369-dca809fb379c",
        "id": "8sK2Wd7mjh7e"
      },
      "execution_count": null,
      "outputs": [
        {
          "output_type": "error",
          "ename": "TypeError",
          "evalue": "can't convert cuda:0 device type tensor to numpy. Use Tensor.cpu() to copy the tensor to host memory first.",
          "traceback": [
            "\u001b[0;31m---------------------------------------------------------------------------\u001b[0m",
            "\u001b[0;31mTypeError\u001b[0m                                 Traceback (most recent call last)",
            "\u001b[0;32m<ipython-input-15-46875906a50f>\u001b[0m in \u001b[0;36m<cell line: 1>\u001b[0;34m()\u001b[0m\n\u001b[0;32m----> 1\u001b[0;31m \u001b[0mx_on_gpu\u001b[0m\u001b[0;34m.\u001b[0m\u001b[0mnumpy\u001b[0m\u001b[0;34m(\u001b[0m\u001b[0;34m)\u001b[0m\u001b[0;34m\u001b[0m\u001b[0;34m\u001b[0m\u001b[0m\n\u001b[0m",
            "\u001b[0;31mTypeError\u001b[0m: can't convert cuda:0 device type tensor to numpy. Use Tensor.cpu() to copy the tensor to host memory first."
          ]
        }
      ]
    },
    {
      "cell_type": "markdown",
      "source": [
        "#RECAP and Practice"
      ],
      "metadata": {
        "id": "a5Fi6U5Ujbex"
      }
    },
    {
      "cell_type": "code",
      "source": [
        "import torch\n",
        "import numpy as np\n",
        "x = torch.tensor([[1,2,3],[4,5,6],[7,8,9]])\n",
        "print(f\"The Data type of created tensor is: {x.dtype} \\nThe Shape is: {x.shape} \\nThe number of dimensions: {x.ndim}\")"
      ],
      "metadata": {
        "colab": {
          "base_uri": "https://localhost:8080/"
        },
        "id": "hXIWqrJ0Qa_k",
        "outputId": "aac7fa4b-db06-4063-fc21-cb95f9f32ce8"
      },
      "execution_count": null,
      "outputs": [
        {
          "output_type": "stream",
          "name": "stdout",
          "text": [
            "The Data type of created tensor is: torch.int64 \n",
            "The Shape is: torch.Size([3, 3]) \n",
            "The number of dimensions: 2\n"
          ]
        }
      ]
    },
    {
      "cell_type": "code",
      "source": [
        "x_zeros=torch.zeros(2,3)\n",
        "x_zeros"
      ],
      "metadata": {
        "colab": {
          "base_uri": "https://localhost:8080/"
        },
        "id": "LGjrCCtBQ7NY",
        "outputId": "93811eed-d59e-4202-e969-9d61c3a1655d"
      },
      "execution_count": null,
      "outputs": [
        {
          "output_type": "execute_result",
          "data": {
            "text/plain": [
              "tensor([[0., 0., 0.],\n",
              "        [0., 0., 0.]])"
            ]
          },
          "metadata": {},
          "execution_count": 10
        }
      ]
    },
    {
      "cell_type": "code",
      "source": [
        "x_ones=torch.ones(1,2,3)\n",
        "x_ones"
      ],
      "metadata": {
        "colab": {
          "base_uri": "https://localhost:8080/"
        },
        "id": "OzAxsxAXSjjb",
        "outputId": "9acfd96f-7cd0-4050-aa91-aae5612d130f"
      },
      "execution_count": null,
      "outputs": [
        {
          "output_type": "execute_result",
          "data": {
            "text/plain": [
              "tensor([[[1., 1., 1.],\n",
              "         [1., 1., 1.]]])"
            ]
          },
          "metadata": {},
          "execution_count": 11
        }
      ]
    },
    {
      "cell_type": "code",
      "source": [
        "x_random=torch.rand(1,2)\n",
        "x_random"
      ],
      "metadata": {
        "colab": {
          "base_uri": "https://localhost:8080/"
        },
        "id": "puqEEU_fSsYU",
        "outputId": "27a2407f-5d75-4194-e1d7-32ec10029bdf"
      },
      "execution_count": null,
      "outputs": [
        {
          "output_type": "execute_result",
          "data": {
            "text/plain": [
              "tensor([[0.6487, 0.8345]])"
            ]
          },
          "metadata": {},
          "execution_count": 12
        }
      ]
    },
    {
      "cell_type": "code",
      "source": [
        "torch.manual_seed(42)\n",
        "x_random1=torch.rand(1,2)\n",
        "x_random1"
      ],
      "metadata": {
        "colab": {
          "base_uri": "https://localhost:8080/"
        },
        "id": "aT9V6eGuS1GS",
        "outputId": "bc0b4ad4-2ab7-46e2-ab49-0603bd37e213"
      },
      "execution_count": null,
      "outputs": [
        {
          "output_type": "execute_result",
          "data": {
            "text/plain": [
              "tensor([[0.8823, 0.9150]])"
            ]
          },
          "metadata": {},
          "execution_count": 13
        }
      ]
    },
    {
      "cell_type": "code",
      "source": [
        "torch.manual_seed(42)\n",
        "x_random2=torch.rand(1,2)\n",
        "x_random2"
      ],
      "metadata": {
        "colab": {
          "base_uri": "https://localhost:8080/"
        },
        "id": "3-B_Gb2nTr5j",
        "outputId": "671da75c-1217-4184-89be-75cad2cb8c64"
      },
      "execution_count": null,
      "outputs": [
        {
          "output_type": "execute_result",
          "data": {
            "text/plain": [
              "tensor([[0.8823, 0.9150]])"
            ]
          },
          "metadata": {},
          "execution_count": 15
        }
      ]
    },
    {
      "cell_type": "code",
      "source": [
        "x=torch.arange(1,11,1)\n",
        "x,x.dtype"
      ],
      "metadata": {
        "colab": {
          "base_uri": "https://localhost:8080/"
        },
        "id": "v4rORVVWT09D",
        "outputId": "51c4b375-2510-427c-d8b9-169c17133199"
      },
      "execution_count": null,
      "outputs": [
        {
          "output_type": "execute_result",
          "data": {
            "text/plain": [
              "(tensor([ 1,  2,  3,  4,  5,  6,  7,  8,  9, 10]), torch.int64)"
            ]
          },
          "metadata": {},
          "execution_count": 19
        }
      ]
    },
    {
      "cell_type": "code",
      "source": [
        "x=x.type(torch.int32)\n",
        "x.dtype"
      ],
      "metadata": {
        "colab": {
          "base_uri": "https://localhost:8080/"
        },
        "id": "Z__xZnDXT98m",
        "outputId": "5e384dbb-19cc-41b5-9e75-cd17c267ce5e"
      },
      "execution_count": null,
      "outputs": [
        {
          "output_type": "execute_result",
          "data": {
            "text/plain": [
              "torch.int32"
            ]
          },
          "metadata": {},
          "execution_count": 21
        }
      ]
    },
    {
      "cell_type": "code",
      "source": [
        "y=torch.zeros_like(x)\n",
        "y"
      ],
      "metadata": {
        "colab": {
          "base_uri": "https://localhost:8080/"
        },
        "id": "NLtXRShjUJ7O",
        "outputId": "ae2cbf16-7a31-4ad6-a953-de33d53e0b25"
      },
      "execution_count": null,
      "outputs": [
        {
          "output_type": "execute_result",
          "data": {
            "text/plain": [
              "tensor([0, 0, 0, 0, 0, 0, 0, 0, 0, 0], dtype=torch.int32)"
            ]
          },
          "metadata": {},
          "execution_count": 22
        }
      ]
    },
    {
      "cell_type": "code",
      "source": [
        "z=torch.ones_like(x)\n",
        "z"
      ],
      "metadata": {
        "colab": {
          "base_uri": "https://localhost:8080/"
        },
        "id": "KMIL9gKIUcE7",
        "outputId": "637302ae-1261-4be1-a317-8e5c4fe191f0"
      },
      "execution_count": null,
      "outputs": [
        {
          "output_type": "execute_result",
          "data": {
            "text/plain": [
              "tensor([1, 1, 1, 1, 1, 1, 1, 1, 1, 1], dtype=torch.int32)"
            ]
          },
          "metadata": {},
          "execution_count": 23
        }
      ]
    },
    {
      "cell_type": "code",
      "source": [
        "a=torch.stack([x,y,z],dim=0)\n",
        "a"
      ],
      "metadata": {
        "colab": {
          "base_uri": "https://localhost:8080/"
        },
        "id": "F4bX83dxUgsS",
        "outputId": "3fd5cbe0-f2bf-445e-fdd0-6f11f20448ca"
      },
      "execution_count": null,
      "outputs": [
        {
          "output_type": "execute_result",
          "data": {
            "text/plain": [
              "tensor([[ 1,  2,  3,  4,  5,  6,  7,  8,  9, 10],\n",
              "        [ 0,  0,  0,  0,  0,  0,  0,  0,  0,  0],\n",
              "        [ 1,  1,  1,  1,  1,  1,  1,  1,  1,  1]], dtype=torch.int32)"
            ]
          },
          "metadata": {},
          "execution_count": 26
        }
      ]
    },
    {
      "cell_type": "code",
      "source": [
        "a.ndim"
      ],
      "metadata": {
        "colab": {
          "base_uri": "https://localhost:8080/"
        },
        "id": "U33nkhfRUmAj",
        "outputId": "1c15ddd0-fd7e-4b20-ffe9-f7153d935142"
      },
      "execution_count": null,
      "outputs": [
        {
          "output_type": "execute_result",
          "data": {
            "text/plain": [
              "2"
            ]
          },
          "metadata": {},
          "execution_count": 28
        }
      ]
    },
    {
      "cell_type": "code",
      "source": [
        "a.T, a"
      ],
      "metadata": {
        "colab": {
          "base_uri": "https://localhost:8080/"
        },
        "id": "8zPjQOmiVHar",
        "outputId": "8b3e1560-4c7c-408c-8b47-cd1060879d6a"
      },
      "execution_count": null,
      "outputs": [
        {
          "output_type": "execute_result",
          "data": {
            "text/plain": [
              "(tensor([[ 1,  0,  1],\n",
              "         [ 2,  0,  1],\n",
              "         [ 3,  0,  1],\n",
              "         [ 4,  0,  1],\n",
              "         [ 5,  0,  1],\n",
              "         [ 6,  0,  1],\n",
              "         [ 7,  0,  1],\n",
              "         [ 8,  0,  1],\n",
              "         [ 9,  0,  1],\n",
              "         [10,  0,  1]], dtype=torch.int32),\n",
              " tensor([[ 1,  2,  3,  4,  5,  6,  7,  8,  9, 10],\n",
              "         [ 0,  0,  0,  0,  0,  0,  0,  0,  0,  0],\n",
              "         [ 1,  1,  1,  1,  1,  1,  1,  1,  1,  1]], dtype=torch.int32))"
            ]
          },
          "metadata": {},
          "execution_count": 33
        }
      ]
    },
    {
      "cell_type": "code",
      "source": [
        "print(f\"The max element is {torch.max(a)} and its position is {torch.argmax(a)}\")"
      ],
      "metadata": {
        "colab": {
          "base_uri": "https://localhost:8080/"
        },
        "id": "J43g0pVHVLFj",
        "outputId": "79baffd7-be88-4003-999a-3c2fc90242d9"
      },
      "execution_count": null,
      "outputs": [
        {
          "output_type": "stream",
          "name": "stdout",
          "text": [
            "The max element is 10 and its position is 9\n"
          ]
        }
      ]
    },
    {
      "cell_type": "code",
      "source": [
        "print(f\"The min element in {x_random} is {torch.min(x_random)} and its position is {torch.argmin(x_random)}\")"
      ],
      "metadata": {
        "colab": {
          "base_uri": "https://localhost:8080/"
        },
        "id": "Q6VebVuNVVX4",
        "outputId": "cf01e0c3-3e9e-4314-81ec-208315a53897"
      },
      "execution_count": null,
      "outputs": [
        {
          "output_type": "stream",
          "name": "stdout",
          "text": [
            "The min element in tensor([[0.6487, 0.8345]])nt is 0.6486715078353882 and its position is 0\n"
          ]
        }
      ]
    },
    {
      "cell_type": "code",
      "source": [
        "torch.mean(x_random), torch.sum(x_random)"
      ],
      "metadata": {
        "colab": {
          "base_uri": "https://localhost:8080/"
        },
        "id": "CMmv7Q41WUZ6",
        "outputId": "80ce1372-2caa-46ec-8609-1d1fb62e9579"
      },
      "execution_count": null,
      "outputs": [
        {
          "output_type": "execute_result",
          "data": {
            "text/plain": [
              "(tensor(0.7416), tensor(1.4832))"
            ]
          },
          "metadata": {},
          "execution_count": 42
        }
      ]
    },
    {
      "cell_type": "code",
      "source": [
        "x = torch.arange(1.0,11.0)\n",
        "x,x.shape"
      ],
      "metadata": {
        "colab": {
          "base_uri": "https://localhost:8080/"
        },
        "id": "lvXLuqP6W37M",
        "outputId": "cd2ae3f2-6f61-459c-dbdd-7520216323ae"
      },
      "execution_count": null,
      "outputs": [
        {
          "output_type": "execute_result",
          "data": {
            "text/plain": [
              "(tensor([ 1.,  2.,  3.,  4.,  5.,  6.,  7.,  8.,  9., 10.]), torch.Size([10]))"
            ]
          },
          "metadata": {},
          "execution_count": 43
        }
      ]
    },
    {
      "cell_type": "code",
      "source": [
        "y=x.reshape(1,1,10)\n",
        "y,y.shape"
      ],
      "metadata": {
        "colab": {
          "base_uri": "https://localhost:8080/"
        },
        "id": "oWyUyK0kcZ0j",
        "outputId": "15d529fb-6a28-437d-cafe-50cbf1ebbcd6"
      },
      "execution_count": null,
      "outputs": [
        {
          "output_type": "execute_result",
          "data": {
            "text/plain": [
              "(tensor([[[ 1.,  2.,  3.,  4.,  5.,  6.,  7.,  8.,  9., 10.]]]),\n",
              " torch.Size([1, 1, 10]))"
            ]
          },
          "metadata": {},
          "execution_count": 46
        }
      ]
    },
    {
      "cell_type": "code",
      "source": [
        "z=y.view(1,10,1)\n",
        "z"
      ],
      "metadata": {
        "colab": {
          "base_uri": "https://localhost:8080/"
        },
        "id": "9gIpvGR9dot3",
        "outputId": "cb7f584d-adcc-4c44-eb0a-799804a87b7d"
      },
      "execution_count": null,
      "outputs": [
        {
          "output_type": "execute_result",
          "data": {
            "text/plain": [
              "tensor([[[ 1.],\n",
              "         [ 2.],\n",
              "         [ 3.],\n",
              "         [ 4.],\n",
              "         [ 5.],\n",
              "         [ 6.],\n",
              "         [ 7.],\n",
              "         [ 8.],\n",
              "         [ 9.],\n",
              "         [10.]]])"
            ]
          },
          "metadata": {},
          "execution_count": 47
        }
      ]
    },
    {
      "cell_type": "code",
      "source": [
        "y[:,:,8]=42\n",
        "y,z"
      ],
      "metadata": {
        "colab": {
          "base_uri": "https://localhost:8080/"
        },
        "id": "DecNI9B8dw1f",
        "outputId": "a0427aba-56e5-4554-8d77-e98dee15c23f"
      },
      "execution_count": null,
      "outputs": [
        {
          "output_type": "execute_result",
          "data": {
            "text/plain": [
              "(tensor([[[ 1.,  2.,  3.,  4.,  5.,  6.,  7.,  8., 42., 10.]]]),\n",
              " tensor([[[ 1.],\n",
              "          [ 2.],\n",
              "          [ 3.],\n",
              "          [ 4.],\n",
              "          [ 5.],\n",
              "          [ 6.],\n",
              "          [ 7.],\n",
              "          [ 8.],\n",
              "          [42.],\n",
              "          [10.]]]))"
            ]
          },
          "metadata": {},
          "execution_count": 48
        }
      ]
    },
    {
      "cell_type": "code",
      "source": [
        "z_new=z.squeeze(dim=[0,2])\n",
        "z_new.shape"
      ],
      "metadata": {
        "colab": {
          "base_uri": "https://localhost:8080/"
        },
        "id": "Tgym5IH0epdp",
        "outputId": "95ef177f-f449-43a3-f727-341a2c265dcf"
      },
      "execution_count": null,
      "outputs": [
        {
          "output_type": "execute_result",
          "data": {
            "text/plain": [
              "torch.Size([10])"
            ]
          },
          "metadata": {},
          "execution_count": 50
        }
      ]
    },
    {
      "cell_type": "code",
      "source": [
        "z_unsq=z_new.unsqueeze(dim=0)"
      ],
      "metadata": {
        "id": "l4Vmhjcoe_DK"
      },
      "execution_count": null,
      "outputs": []
    },
    {
      "cell_type": "code",
      "source": [
        "z_unsq.shape"
      ],
      "metadata": {
        "colab": {
          "base_uri": "https://localhost:8080/"
        },
        "id": "tT2tD6kXfrR7",
        "outputId": "dc0095fb-d292-414e-ffcc-6dab6a8eda31"
      },
      "execution_count": null,
      "outputs": [
        {
          "output_type": "execute_result",
          "data": {
            "text/plain": [
              "torch.Size([1, 10])"
            ]
          },
          "metadata": {},
          "execution_count": 57
        }
      ]
    },
    {
      "cell_type": "code",
      "source": [
        "x=torch.rand(128,720,3)"
      ],
      "metadata": {
        "id": "AnFayuWzfunR"
      },
      "execution_count": null,
      "outputs": []
    },
    {
      "cell_type": "code",
      "source": [
        "x_permuted=x.permute(2,0,1)"
      ],
      "metadata": {
        "id": "gJsTFaVmgOHC"
      },
      "execution_count": null,
      "outputs": []
    },
    {
      "cell_type": "code",
      "source": [
        "x_permuted.shape"
      ],
      "metadata": {
        "colab": {
          "base_uri": "https://localhost:8080/"
        },
        "id": "9m7j3fOwgYZN",
        "outputId": "bfd18ed3-add9-485b-e26c-b996dc585f46"
      },
      "execution_count": null,
      "outputs": [
        {
          "output_type": "execute_result",
          "data": {
            "text/plain": [
              "torch.Size([3, 128, 720])"
            ]
          },
          "metadata": {},
          "execution_count": 60
        }
      ]
    }
  ]
}